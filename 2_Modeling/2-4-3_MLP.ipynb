{
 "cells": [
  {
   "attachments": {},
   "cell_type": "markdown",
   "metadata": {},
   "source": [
    "# 🧠 Kor-DEEPression\n",
    "## 🛠️ Step 2-4. ML/DL Modeling\n",
    "---"
   ]
  },
  {
   "attachments": {},
   "cell_type": "markdown",
   "metadata": {},
   "source": [
    "## 💻 Step 2-4-3. Multi Layer Perceptron(MLP) Modeling & Tuning"
   ]
  },
  {
   "attachments": {},
   "cell_type": "markdown",
   "metadata": {},
   "source": [
    "- 💾 Data Prepare"
   ]
  },
  {
   "cell_type": "code",
   "execution_count": 1,
   "metadata": {},
   "outputs": [
    {
     "name": "stdout",
     "output_type": "stream",
     "text": [
      "\n",
      "(Data Loading)\n",
      "\t(Depression)\n",
      "\tDataFrame Shape : (16570, 48)\n",
      "\tFeatures(X) Shape : (16570, 47)\n",
      "\tTarget(y) Shape : (16570,)\n",
      "\n",
      "\t(MDD)\n",
      "\tDataFrame Shape : (3359, 48)\n",
      "\tFeatures(X) Shape : (3359, 47)\n",
      "\tTarget(y) Shape : (3359,)\n"
     ]
    }
   ],
   "source": [
    "from custom_modules.modeling import data_load\n",
    "\n",
    "# 데이터 불러오기 기능\n",
    "print(\"\\n(Data Loading)\")\n",
    "print(\"\\t(Depression)\")\n",
    "df_X_depr, df_y_depr = data_load(target_name='depression', filepath='downloads/Encoded_depr.csv')\n",
    "print(\"\\n\\t(MDD)\")\n",
    "df_X_mdd, df_y_mdd = data_load(target_name='MDD', filepath='downloads/Encoded_mdd.csv')"
   ]
  },
  {
   "cell_type": "code",
   "execution_count": 2,
   "metadata": {},
   "outputs": [
    {
     "name": "stdout",
     "output_type": "stream",
     "text": [
      "\n",
      "(Data Splitting)\n",
      "\t(Depression)\n",
      "\tX_train, y_train : (9942, 47), (9942,)\n",
      "\tX_val, y_val : (3314, 47), (3314,)\n",
      "\tX_test, y_test : (3314, 47), (3314,)\n",
      "\n",
      "\t(MDD)\n",
      "\tX_train, y_train : (2015, 47), (2015,)\n",
      "\tX_val, y_val : (672, 47), (672,)\n",
      "\tX_test, y_test : (672, 47), (672,)\n"
     ]
    }
   ],
   "source": [
    "from custom_modules.modeling import data_split\n",
    "\n",
    "# 데이터 분리 기능\n",
    "print(\"\\n(Data Splitting)\")\n",
    "print(\"\\t(Depression)\")\n",
    "X_train_depr, X_val_depr, X_test_depr, y_train_depr, y_val_depr, y_test_depr = data_split(df_X_depr, df_y_depr, val_set=True)\n",
    "print(\"\\n\\t(MDD)\")\n",
    "X_train_mdd, X_val_mdd, X_test_mdd, y_train_mdd, y_val_mdd, y_test_mdd = data_split(df_X_mdd, df_y_mdd, val_set=True)"
   ]
  },
  {
   "cell_type": "code",
   "execution_count": 3,
   "metadata": {},
   "outputs": [
    {
     "name": "stdout",
     "output_type": "stream",
     "text": [
      "\n",
      "(Baseline)\n",
      "\t(Depression)\n",
      "\tBaseline Accuracy : 0.7944\n",
      "\tBaseline AUC_score : 0.5\n",
      "\n",
      "\t(MDD)\n",
      "\tBaseline Accuracy : 0.7300\n",
      "\tBaseline AUC_score : 0.5\n"
     ]
    }
   ],
   "source": [
    "from custom_modules.modeling import make_baseline\n",
    "\n",
    "# Baseline (최빈 Class) 생성 기능\n",
    "print(\"\\n(Baseline)\")\n",
    "print(\"\\t(Depression)\")\n",
    "baseline_depr = make_baseline(y_train_depr)\n",
    "print(\"\\n\\t(MDD)\")\n",
    "baseline_mdd = make_baseline(y_train_mdd)"
   ]
  },
  {
   "attachments": {},
   "cell_type": "markdown",
   "metadata": {},
   "source": [
    "- 💾 keras_tuner 라이브러리 불러오기"
   ]
  },
  {
   "cell_type": "code",
   "execution_count": 4,
   "metadata": {},
   "outputs": [],
   "source": [
    "# keras_tuner 라이브러리를 import\n",
    "import keras_tuner as kt\n",
    "\n",
    "# keras Tuner Output을 자동으로 갱신하는 Class 선언(overriding)\n",
    "from keras.callbacks import Callback\n",
    "import IPython\n",
    "\n",
    "# Callback 클래스를 상속받고 오버라이딩 실시\n",
    "class ClearTrainingOutput(Callback):\n",
    "    def on_train_end(*args, **kwargs):\n",
    "        IPython.display.clear_output(wait=True)"
   ]
  },
  {
   "attachments": {},
   "cell_type": "markdown",
   "metadata": {},
   "source": [
    "### ⚙️ Depression(정상vs우울증) Model Tuning "
   ]
  },
  {
   "cell_type": "code",
   "execution_count": 5,
   "metadata": {},
   "outputs": [],
   "source": [
    "# custom_modules에서 정의한 model_builder를 불러옴\n",
    "from custom_modules.modeling import model_builder_mlp\n",
    "\n",
    "# keras tuner 정의 (튜닝방식은 Hyperband로 실시)\n",
    "# 평가지표 기준은 AUC score를 최대화 하는 방향으로 설정함\n",
    "tuner_depr = kt.Hyperband(hypermodel=model_builder_mlp,\n",
    "                         objective=kt.Objective(name='val_auc', direction='max'),\n",
    "                         max_epochs=10,\n",
    "                         factor=3,\n",
    "                         directory='kt_tuning',\n",
    "                         project_name='mlp_tuning_depr')"
   ]
  },
  {
   "cell_type": "code",
   "execution_count": 6,
   "metadata": {},
   "outputs": [
    {
     "name": "stdout",
     "output_type": "stream",
     "text": [
      "Trial 30 Complete [00h 00m 20s]\n",
      "val_auc: 0.8214871883392334\n",
      "\n",
      "Best val_auc So Far: 0.8241401314735413\n",
      "Total elapsed time: 00h 04m 27s\n",
      "INFO:tensorflow:Oracle triggered exit\n"
     ]
    }
   ],
   "source": [
    "tuner_depr.search(X_train_depr, y_train_depr,\n",
    "                 epochs=10,\n",
    "                 validation_data=(X_val_depr, y_val_depr),\n",
    "                 callbacks=[ClearTrainingOutput()])\n",
    "best_hps_depr = tuner_depr.get_best_hyperparameters(num_trials=1)[0]"
   ]
  },
  {
   "cell_type": "code",
   "execution_count": 7,
   "metadata": {},
   "outputs": [
    {
     "name": "stdout",
     "output_type": "stream",
     "text": [
      "\n",
      "      최적화된 Dense_1 노드 수 : 32\n",
      "      최적화된 Dense_2 노드 수 : 16\n",
      "      \n"
     ]
    }
   ],
   "source": [
    "print(f\"\"\"\n",
    "      최적화된 Dense_1 노드 수 : {best_hps_depr.get('units_1')}\n",
    "      최적화된 Dense_2 노드 수 : {best_hps_depr.get('units_2')}\n",
    "      \"\"\")"
   ]
  },
  {
   "cell_type": "code",
   "execution_count": 8,
   "metadata": {},
   "outputs": [
    {
     "name": "stdout",
     "output_type": "stream",
     "text": [
      "Model: \"Sequential_MLP\"\n",
      "_________________________________________________________________\n",
      " Layer (type)                Output Shape              Param #   \n",
      "=================================================================\n",
      " Dense_1 (Dense)             (None, 32)                1536      \n",
      "                                                                 \n",
      " Dense_2 (Dense)             (None, 16)                528       \n",
      "                                                                 \n",
      " Output_Layer (Dense)        (None, 1)                 17        \n",
      "                                                                 \n",
      "=================================================================\n",
      "Total params: 2,081\n",
      "Trainable params: 2,081\n",
      "Non-trainable params: 0\n",
      "_________________________________________________________________\n"
     ]
    }
   ],
   "source": [
    "# 최적화된 파라미터로 모델을 다시 Build\n",
    "best_model_depr = tuner_depr.hypermodel.build(best_hps_depr)\n",
    "# 모델 구조 출력\n",
    "best_model_depr.summary()"
   ]
  },
  {
   "cell_type": "code",
   "execution_count": 9,
   "metadata": {},
   "outputs": [
    {
     "name": "stdout",
     "output_type": "stream",
     "text": [
      "Epoch 1/100\n",
      "311/311 [==============================] - 3s 7ms/step - loss: 0.4601 - auc: 0.7164 - val_loss: 0.3924 - val_auc: 0.8122\n",
      "Epoch 2/100\n",
      "311/311 [==============================] - 2s 6ms/step - loss: 0.3972 - auc: 0.8106 - val_loss: 0.3835 - val_auc: 0.8222\n",
      "Epoch 3/100\n",
      "311/311 [==============================] - 2s 6ms/step - loss: 0.3912 - auc: 0.8165 - val_loss: 0.3830 - val_auc: 0.8215\n",
      "Epoch 4/100\n",
      "311/311 [==============================] - 2s 6ms/step - loss: 0.3898 - auc: 0.8174 - val_loss: 0.3827 - val_auc: 0.8226\n",
      "Epoch 5/100\n",
      "311/311 [==============================] - 2s 7ms/step - loss: 0.3868 - auc: 0.8204 - val_loss: 0.3877 - val_auc: 0.8211\n",
      "Epoch 6/100\n",
      "311/311 [==============================] - 2s 6ms/step - loss: 0.3843 - auc: 0.8235 - val_loss: 0.3827 - val_auc: 0.8211\n",
      "Epoch 7/100\n",
      "311/311 [==============================] - 2s 6ms/step - loss: 0.3831 - auc: 0.8249 - val_loss: 0.3843 - val_auc: 0.8214\n",
      "Epoch 8/100\n",
      "311/311 [==============================] - 2s 7ms/step - loss: 0.3805 - auc: 0.8270 - val_loss: 0.3873 - val_auc: 0.8180\n",
      "Epoch 9/100\n",
      "311/311 [==============================] - 2s 7ms/step - loss: 0.3791 - auc: 0.8289 - val_loss: 0.3856 - val_auc: 0.8190\n",
      "Epoch 10/100\n",
      "311/311 [==============================] - 2s 7ms/step - loss: 0.3766 - auc: 0.8310 - val_loss: 0.3851 - val_auc: 0.8203\n",
      "Epoch 11/100\n",
      "311/311 [==============================] - 2s 7ms/step - loss: 0.3753 - auc: 0.8318 - val_loss: 0.3852 - val_auc: 0.8181\n",
      "Epoch 12/100\n",
      "311/311 [==============================] - 2s 6ms/step - loss: 0.3733 - auc: 0.8340 - val_loss: 0.3900 - val_auc: 0.8159\n"
     ]
    },
    {
     "data": {
      "text/plain": [
       "<keras.callbacks.History at 0x20cc42a5d00>"
      ]
     },
     "execution_count": 9,
     "metadata": {},
     "output_type": "execute_result"
    }
   ],
   "source": [
    "# Callback 함수 불러오기(EarlyStopping, ModelCheckpoint)\n",
    "from custom_modules.modeling import callback_sets\n",
    "savepath = '../tuning-models/MLP_depr.h5'\n",
    "callbacks = callback_sets(monitor='val_auc', mode='max', patience=8, savepath=savepath)\n",
    "# 최적화된 파라미터로 모델 재학습\n",
    "best_model_depr.fit(X_train_depr, y_train_depr,\n",
    "                    validation_data=(X_val_depr, y_val_depr),\n",
    "                    epochs=100,\n",
    "                    callbacks=callbacks)"
   ]
  },
  {
   "cell_type": "code",
   "execution_count": 10,
   "metadata": {},
   "outputs": [
    {
     "name": "stdout",
     "output_type": "stream",
     "text": [
      "311/311 - 1s - loss: 0.3827 - auc: 0.8256 - 937ms/epoch - 3ms/step\n",
      "104/104 - 0s - loss: 0.3827 - auc: 0.8226 - 317ms/epoch - 3ms/step\n",
      "104/104 - 0s - loss: 0.3788 - auc: 0.8200 - 318ms/epoch - 3ms/step\n"
     ]
    },
    {
     "data": {
      "text/plain": [
       "[0.3788101375102997, 0.8199905157089233]"
      ]
     },
     "execution_count": 10,
     "metadata": {},
     "output_type": "execute_result"
    }
   ],
   "source": [
    "# Evaluation Best Model\n",
    "best_model_depr.evaluate(X_train_depr, y_train_depr, verbose=2)\n",
    "best_model_depr.evaluate(X_val_depr, y_val_depr, verbose=2)\n",
    "best_model_depr.evaluate(X_test_depr, y_test_depr, verbose=2)"
   ]
  },
  {
   "cell_type": "code",
   "execution_count": 11,
   "metadata": {},
   "outputs": [
    {
     "name": "stdout",
     "output_type": "stream",
     "text": [
      "311/311 - 1s - loss: 0.3827 - auc: 0.8256 - 1s/epoch - 4ms/step\n",
      "104/104 - 0s - loss: 0.3827 - auc: 0.8226 - 331ms/epoch - 3ms/step\n",
      "104/104 - 0s - loss: 0.3788 - auc: 0.8200 - 332ms/epoch - 3ms/step\n"
     ]
    },
    {
     "data": {
      "text/plain": [
       "[0.3788101375102997, 0.8199905157089233]"
      ]
     },
     "execution_count": 11,
     "metadata": {},
     "output_type": "execute_result"
    }
   ],
   "source": [
    "# Saved model Evaluation\n",
    "from keras.models import load_model\n",
    "model_test_depr = load_model('../tuning-models/MLP_depr.h5')\n",
    "model_test_depr.evaluate(X_train_depr, y_train_depr, verbose=2)\n",
    "model_test_depr.evaluate(X_val_depr, y_val_depr, verbose=2)\n",
    "model_test_depr.evaluate(X_test_depr, y_test_depr, verbose=2)"
   ]
  },
  {
   "attachments": {},
   "cell_type": "markdown",
   "metadata": {},
   "source": [
    "- EarlyStopping이 적용된 Best 모델과 저장된 모델의 Evaluation 수치가 동일함을 확인."
   ]
  },
  {
   "attachments": {},
   "cell_type": "markdown",
   "metadata": {},
   "source": [
    "### ⚙️ MDD(경도우울증vs주요우울장애) Model Tuning "
   ]
  },
  {
   "cell_type": "code",
   "execution_count": 12,
   "metadata": {},
   "outputs": [
    {
     "name": "stdout",
     "output_type": "stream",
     "text": [
      "Trial 30 Complete [00h 00m 06s]\n",
      "val_auc: 0.7162057757377625\n",
      "\n",
      "Best val_auc So Far: 0.7283497452735901\n",
      "Total elapsed time: 00h 01m 37s\n",
      "INFO:tensorflow:Oracle triggered exit\n"
     ]
    }
   ],
   "source": [
    "# Depression과 동일한 구조와 방식으로 진행함\n",
    "tuner_mdd = kt.Hyperband(hypermodel=model_builder_mlp,\n",
    "                         objective=kt.Objective(name='val_auc', direction='max'),\n",
    "                         max_epochs=10,\n",
    "                         factor=3,\n",
    "                         directory='kt_tuning',\n",
    "                         project_name='mlp_tuning_mdd')\n",
    "tuner_mdd.search(X_train_mdd, y_train_mdd,\n",
    "                 epochs=10,\n",
    "                 validation_data=(X_val_mdd, y_val_mdd),\n",
    "                 callbacks=[ClearTrainingOutput()])\n",
    "best_hps_mdd = tuner_mdd.get_best_hyperparameters(num_trials=1)[0]"
   ]
  },
  {
   "cell_type": "code",
   "execution_count": 13,
   "metadata": {},
   "outputs": [
    {
     "name": "stdout",
     "output_type": "stream",
     "text": [
      "\n",
      "      최적화된 Dense_1 노드 수 : 40\n",
      "      최적화된 Dense_2 노드 수 : 40\n",
      "      \n"
     ]
    }
   ],
   "source": [
    "print(f\"\"\"\n",
    "      최적화된 Dense_1 노드 수 : {best_hps_mdd.get('units_1')}\n",
    "      최적화된 Dense_2 노드 수 : {best_hps_mdd.get('units_2')}\n",
    "      \"\"\")"
   ]
  },
  {
   "cell_type": "code",
   "execution_count": 14,
   "metadata": {},
   "outputs": [
    {
     "name": "stdout",
     "output_type": "stream",
     "text": [
      "Model: \"Sequential_MLP\"\n",
      "_________________________________________________________________\n",
      " Layer (type)                Output Shape              Param #   \n",
      "=================================================================\n",
      " Dense_1 (Dense)             (None, 40)                1920      \n",
      "                                                                 \n",
      " Dense_2 (Dense)             (None, 40)                1640      \n",
      "                                                                 \n",
      " Output_Layer (Dense)        (None, 1)                 41        \n",
      "                                                                 \n",
      "=================================================================\n",
      "Total params: 3,601\n",
      "Trainable params: 3,601\n",
      "Non-trainable params: 0\n",
      "_________________________________________________________________\n"
     ]
    }
   ],
   "source": [
    "# 최적화된 파라미터로 모델을 다시 Build\n",
    "best_model_mdd = tuner_mdd.hypermodel.build(best_hps_mdd)\n",
    "# 모델 구조 출력\n",
    "best_model_mdd.summary()"
   ]
  },
  {
   "cell_type": "code",
   "execution_count": 15,
   "metadata": {},
   "outputs": [
    {
     "name": "stdout",
     "output_type": "stream",
     "text": [
      "Epoch 1/100\n",
      "63/63 [==============================] - 1s 10ms/step - loss: 0.5654 - auc: 0.6181 - val_loss: 0.5549 - val_auc: 0.6869\n",
      "Epoch 2/100\n",
      "63/63 [==============================] - 0s 7ms/step - loss: 0.5157 - auc: 0.7426 - val_loss: 0.5386 - val_auc: 0.7074\n",
      "Epoch 3/100\n",
      "63/63 [==============================] - 0s 6ms/step - loss: 0.4914 - auc: 0.7697 - val_loss: 0.5344 - val_auc: 0.7145\n",
      "Epoch 4/100\n",
      "63/63 [==============================] - 0s 6ms/step - loss: 0.4802 - auc: 0.7799 - val_loss: 0.5346 - val_auc: 0.7163\n",
      "Epoch 5/100\n",
      "63/63 [==============================] - 0s 6ms/step - loss: 0.4720 - auc: 0.7892 - val_loss: 0.5357 - val_auc: 0.7158\n",
      "Epoch 6/100\n",
      "63/63 [==============================] - 0s 6ms/step - loss: 0.4670 - auc: 0.7933 - val_loss: 0.5359 - val_auc: 0.7170\n",
      "Epoch 7/100\n",
      "63/63 [==============================] - 0s 7ms/step - loss: 0.4597 - auc: 0.8021 - val_loss: 0.5342 - val_auc: 0.7165\n",
      "Epoch 8/100\n",
      "63/63 [==============================] - 0s 6ms/step - loss: 0.4563 - auc: 0.8068 - val_loss: 0.5378 - val_auc: 0.7147\n",
      "Epoch 9/100\n",
      "63/63 [==============================] - 0s 6ms/step - loss: 0.4512 - auc: 0.8122 - val_loss: 0.5385 - val_auc: 0.7161\n",
      "Epoch 10/100\n",
      "63/63 [==============================] - 0s 6ms/step - loss: 0.4455 - auc: 0.8171 - val_loss: 0.5438 - val_auc: 0.7145\n",
      "Epoch 11/100\n",
      "63/63 [==============================] - 0s 6ms/step - loss: 0.4423 - auc: 0.8207 - val_loss: 0.5410 - val_auc: 0.7155\n",
      "Epoch 12/100\n",
      "63/63 [==============================] - 0s 6ms/step - loss: 0.4370 - auc: 0.8272 - val_loss: 0.5534 - val_auc: 0.7106\n",
      "Epoch 13/100\n",
      "63/63 [==============================] - 0s 7ms/step - loss: 0.4316 - auc: 0.8338 - val_loss: 0.5476 - val_auc: 0.7143\n",
      "Epoch 14/100\n",
      "63/63 [==============================] - 0s 6ms/step - loss: 0.4245 - auc: 0.8390 - val_loss: 0.5517 - val_auc: 0.7103\n"
     ]
    },
    {
     "data": {
      "text/plain": [
       "<keras.callbacks.History at 0x20cec9bc790>"
      ]
     },
     "execution_count": 15,
     "metadata": {},
     "output_type": "execute_result"
    }
   ],
   "source": [
    "savepath_mdd = '../tuning-models/MLP_mdd.h5'\n",
    "callbacks_mdd = callback_sets(monitor='val_auc', mode='max', patience=8, savepath=savepath_mdd)\n",
    "# 최적화된 파라미터로 모델 재학습\n",
    "best_model_mdd.fit(X_train_mdd, y_train_mdd,\n",
    "                    validation_data=(X_val_mdd, y_val_mdd),\n",
    "                    epochs=100,\n",
    "                    callbacks=callbacks_mdd)"
   ]
  },
  {
   "cell_type": "code",
   "execution_count": 16,
   "metadata": {},
   "outputs": [
    {
     "name": "stdout",
     "output_type": "stream",
     "text": [
      "63/63 - 0s - loss: 0.4596 - auc: 0.8065 - 431ms/epoch - 7ms/step\n",
      "21/21 - 0s - loss: 0.5359 - auc: 0.7170 - 76ms/epoch - 4ms/step\n",
      "21/21 - 0s - loss: 0.5094 - auc: 0.7468 - 75ms/epoch - 4ms/step\n"
     ]
    },
    {
     "data": {
      "text/plain": [
       "[0.5093514323234558, 0.7468259930610657]"
      ]
     },
     "execution_count": 16,
     "metadata": {},
     "output_type": "execute_result"
    }
   ],
   "source": [
    "# Evaluation Best Model\n",
    "best_model_mdd.evaluate(X_train_mdd, y_train_mdd, verbose=2)\n",
    "best_model_mdd.evaluate(X_val_mdd, y_val_mdd, verbose=2)\n",
    "best_model_mdd.evaluate(X_test_mdd, y_test_mdd, verbose=2)"
   ]
  },
  {
   "cell_type": "code",
   "execution_count": 17,
   "metadata": {},
   "outputs": [
    {
     "name": "stdout",
     "output_type": "stream",
     "text": [
      "63/63 - 0s - loss: 0.4596 - auc: 0.8065 - 412ms/epoch - 7ms/step\n",
      "21/21 - 0s - loss: 0.5359 - auc: 0.7170 - 83ms/epoch - 4ms/step\n",
      "21/21 - 0s - loss: 0.5094 - auc: 0.7468 - 83ms/epoch - 4ms/step\n"
     ]
    },
    {
     "data": {
      "text/plain": [
       "[0.5093514323234558, 0.7468259930610657]"
      ]
     },
     "execution_count": 17,
     "metadata": {},
     "output_type": "execute_result"
    }
   ],
   "source": [
    "# Saved model Evaluation\n",
    "model_test_mdd = load_model('../tuning-models/MLP_mdd.h5')\n",
    "model_test_mdd.evaluate(X_train_mdd, y_train_mdd, verbose=2)\n",
    "model_test_mdd.evaluate(X_val_mdd, y_val_mdd, verbose=2)\n",
    "model_test_mdd.evaluate(X_test_mdd, y_test_mdd, verbose=2)"
   ]
  },
  {
   "attachments": {},
   "cell_type": "markdown",
   "metadata": {},
   "source": [
    "- EarlyStopping이 적용된 Best 모델과 저장된 모델의 Evaluation 수치가 동일함을 확인."
   ]
  }
 ],
 "metadata": {
  "kernelspec": {
   "display_name": "Kr-deep-ml",
   "language": "python",
   "name": "python3"
  },
  "language_info": {
   "codemirror_mode": {
    "name": "ipython",
    "version": 3
   },
   "file_extension": ".py",
   "mimetype": "text/x-python",
   "name": "python",
   "nbconvert_exporter": "python",
   "pygments_lexer": "ipython3",
   "version": "3.8.16"
  },
  "orig_nbformat": 4,
  "vscode": {
   "interpreter": {
    "hash": "c76392c475892b045c58a048aaac6e49d6e7cc4168edf1cdbe1dafc077c6475a"
   }
  }
 },
 "nbformat": 4,
 "nbformat_minor": 2
}
