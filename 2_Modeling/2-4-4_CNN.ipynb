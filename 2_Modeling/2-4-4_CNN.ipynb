{
 "cells": [
  {
   "attachments": {},
   "cell_type": "markdown",
   "metadata": {},
   "source": [
    "# 🧠 Kor-DEEPression \n",
    "## 🛠️ Step 2-4. ML/DL Modeling\n",
    "---"
   ]
  },
  {
   "attachments": {},
   "cell_type": "markdown",
   "metadata": {},
   "source": [
    "## 💻 Step 2-4-4.<br>1D-Convolutional Neural Networks(1D-CNN)<br>Modeling & Tuning"
   ]
  },
  {
   "attachments": {},
   "cell_type": "markdown",
   "metadata": {},
   "source": [
    "- 💾 Data Prepare"
   ]
  },
  {
   "cell_type": "code",
   "execution_count": 1,
   "metadata": {},
   "outputs": [
    {
     "name": "stdout",
     "output_type": "stream",
     "text": [
      "\n",
      "(Data Loading)\n",
      "\t(Depression)\n",
      "\tDataFrame Shape : (16570, 48)\n",
      "\tFeatures(X) Shape : (16570, 47)\n",
      "\tTarget(y) Shape : (16570,)\n",
      "\n",
      "\t(MDD)\n",
      "\tDataFrame Shape : (3359, 48)\n",
      "\tFeatures(X) Shape : (3359, 47)\n",
      "\tTarget(y) Shape : (3359,)\n"
     ]
    }
   ],
   "source": [
    "from custom_modules.modeling import data_load\n",
    "\n",
    "# 데이터 불러오기 기능\n",
    "print(\"\\n(Data Loading)\")\n",
    "print(\"\\t(Depression)\")\n",
    "df_X_depr, df_y_depr = data_load(target_name='depression', filepath='downloads/Encoded_depr.csv')\n",
    "print(\"\\n\\t(MDD)\")\n",
    "df_X_mdd, df_y_mdd = data_load(target_name='MDD', filepath='downloads/Encoded_mdd.csv')"
   ]
  },
  {
   "cell_type": "code",
   "execution_count": 2,
   "metadata": {},
   "outputs": [
    {
     "name": "stdout",
     "output_type": "stream",
     "text": [
      "\n",
      "(Data Splitting)\n",
      "\t(Depression)\n",
      "\tX_train, y_train : (9942, 47), (9942,)\n",
      "\tX_val, y_val : (3314, 47), (3314,)\n",
      "\tX_test, y_test : (3314, 47), (3314,)\n",
      "\n",
      "\t(MDD)\n",
      "\tX_train, y_train : (2015, 47), (2015,)\n",
      "\tX_val, y_val : (672, 47), (672,)\n",
      "\tX_test, y_test : (672, 47), (672,)\n"
     ]
    }
   ],
   "source": [
    "from custom_modules.modeling import data_split\n",
    "\n",
    "# 데이터 분리 기능\n",
    "print(\"\\n(Data Splitting)\")\n",
    "print(\"\\t(Depression)\")\n",
    "X_train_depr, X_val_depr, X_test_depr, y_train_depr, y_val_depr, y_test_depr = data_split(df_X_depr, df_y_depr, val_set=True)\n",
    "print(\"\\n\\t(MDD)\")\n",
    "X_train_mdd, X_val_mdd, X_test_mdd, y_train_mdd, y_val_mdd, y_test_mdd = data_split(df_X_mdd, df_y_mdd, val_set=True)"
   ]
  },
  {
   "cell_type": "code",
   "execution_count": 3,
   "metadata": {},
   "outputs": [
    {
     "name": "stdout",
     "output_type": "stream",
     "text": [
      "\n",
      "(Baseline)\n",
      "\t(Depression)\n",
      "\tBaseline Accuracy : 0.7944\n",
      "\tBaseline AUC_score : 0.5\n",
      "\n",
      "\t(MDD)\n",
      "\tBaseline Accuracy : 0.7300\n",
      "\tBaseline AUC_score : 0.5\n"
     ]
    }
   ],
   "source": [
    "from custom_modules.modeling import make_baseline\n",
    "\n",
    "# Baseline (최빈 Class) 생성 기능\n",
    "print(\"\\n(Baseline)\")\n",
    "print(\"\\t(Depression)\")\n",
    "baseline_depr = make_baseline(y_train_depr)\n",
    "print(\"\\n\\t(MDD)\")\n",
    "baseline_mdd = make_baseline(y_train_mdd)"
   ]
  },
  {
   "attachments": {},
   "cell_type": "markdown",
   "metadata": {},
   "source": [
    "- 💾 keras_tuner 라이브러리 불러오기"
   ]
  },
  {
   "cell_type": "code",
   "execution_count": 4,
   "metadata": {},
   "outputs": [],
   "source": [
    "# keras_tuner 라이브러리를 import\n",
    "import keras_tuner as kt\n",
    "\n",
    "# keras Tuner Output을 자동으로 갱신하는 Class 선언(overriding)\n",
    "from keras.callbacks import Callback\n",
    "import IPython\n",
    "\n",
    "# Callback 클래스를 상속받고 오버라이딩 실시\n",
    "class ClearTrainingOutput(Callback):\n",
    "    def on_train_end(*args, **kwargs):\n",
    "        IPython.display.clear_output(wait=True)"
   ]
  },
  {
   "attachments": {},
   "cell_type": "markdown",
   "metadata": {},
   "source": [
    "### ⚙️ Depression(정상vs우울증) Model Tuning "
   ]
  },
  {
   "cell_type": "code",
   "execution_count": 5,
   "metadata": {},
   "outputs": [
    {
     "name": "stdout",
     "output_type": "stream",
     "text": [
      "Trial 30 Complete [00h 00m 24s]\n",
      "val_auc: 0.821434736251831\n",
      "\n",
      "Best val_auc So Far: 0.8224851489067078\n",
      "Total elapsed time: 00h 05m 32s\n",
      "INFO:tensorflow:Oracle triggered exit\n"
     ]
    }
   ],
   "source": [
    "# custom_modules에서 정의한 model_builder를 불러옴\n",
    "from custom_modules.modeling import model_builder_cnn\n",
    "\n",
    "# keras tuner 정의 (튜닝방식은 Hyperband로 실시)\n",
    "# 평가지표 기준은 AUC score를 최대화 하는 방향으로 설정함\n",
    "tuner_depr = kt.Hyperband(hypermodel=model_builder_cnn,\n",
    "                         objective=kt.Objective(name='val_auc', direction='max'),\n",
    "                         max_epochs=10,\n",
    "                         factor=3,\n",
    "                         directory='kt_tuning',\n",
    "                         project_name='cnn_tuning_depr')\n",
    "\n",
    "# Tuning 실시\n",
    "tuner_depr.search(X_train_depr, y_train_depr,\n",
    "                 epochs=10,\n",
    "                 validation_data=(X_val_depr, y_val_depr),\n",
    "                 callbacks=[ClearTrainingOutput()])\n",
    "best_hps_depr = tuner_depr.get_best_hyperparameters(num_trials=1)[0]"
   ]
  },
  {
   "cell_type": "code",
   "execution_count": 6,
   "metadata": {},
   "outputs": [
    {
     "name": "stdout",
     "output_type": "stream",
     "text": [
      "\n",
      "      최적화된 Conv1D_Filters : 16\n",
      "      최적화된 kernel_size : 3\n",
      "      최적화된 FC_units : 128\n",
      "      최적화된 Dropout_rate : 0.8\n",
      "      최적화된 learning_rate : 0.001\n",
      "      \n"
     ]
    }
   ],
   "source": [
    "print(f\"\"\"\n",
    "      최적화된 Conv1D_Filters : {best_hps_depr.get('Conv1D_Filters')}\n",
    "      최적화된 kernel_size : {best_hps_depr.get('kernel_size')}\n",
    "      최적화된 FC_units : {best_hps_depr.get('FC_units')}\n",
    "      최적화된 Dropout_rate : {best_hps_depr.get('Dropout_rate')}\n",
    "      최적화된 learning_rate : {best_hps_depr.get('learning_rate')}\n",
    "      \"\"\")"
   ]
  },
  {
   "cell_type": "code",
   "execution_count": 7,
   "metadata": {},
   "outputs": [
    {
     "name": "stdout",
     "output_type": "stream",
     "text": [
      "Model: \"Sequential\"\n",
      "_________________________________________________________________\n",
      " Layer (type)                Output Shape              Param #   \n",
      "=================================================================\n",
      " Conv1D_Layer (Conv1D)       (None, 45, 16)            64        \n",
      "                                                                 \n",
      " Batch_Normalization (BatchN  (None, 45, 16)           64        \n",
      " ormalization)                                                   \n",
      "                                                                 \n",
      " Flatten_Layer (Flatten)     (None, 720)               0         \n",
      "                                                                 \n",
      " FC_Dense_Layer (Dense)      (None, 128)               92288     \n",
      "                                                                 \n",
      " Dropout (Dropout)           (None, 128)               0         \n",
      "                                                                 \n",
      " Output_Layer (Dense)        (None, 1)                 129       \n",
      "                                                                 \n",
      "=================================================================\n",
      "Total params: 92,545\n",
      "Trainable params: 92,513\n",
      "Non-trainable params: 32\n",
      "_________________________________________________________________\n"
     ]
    }
   ],
   "source": [
    "# 최적화된 파라미터로 모델을 다시 Build\n",
    "best_model_depr = tuner_depr.hypermodel.build(best_hps_depr)\n",
    "# 모델 구조 출력\n",
    "best_model_depr.summary()"
   ]
  },
  {
   "cell_type": "code",
   "execution_count": 8,
   "metadata": {},
   "outputs": [
    {
     "name": "stdout",
     "output_type": "stream",
     "text": [
      "Epoch 1/100\n",
      "311/311 [==============================] - 3s 8ms/step - loss: 0.5173 - auc: 0.7071 - val_loss: 0.4044 - val_auc: 0.8149\n",
      "Epoch 2/100\n",
      "311/311 [==============================] - 2s 8ms/step - loss: 0.4355 - auc: 0.7699 - val_loss: 0.3975 - val_auc: 0.8163\n",
      "Epoch 3/100\n",
      "311/311 [==============================] - 2s 7ms/step - loss: 0.4266 - auc: 0.7798 - val_loss: 0.3876 - val_auc: 0.8152\n",
      "Epoch 4/100\n",
      "311/311 [==============================] - 2s 8ms/step - loss: 0.4159 - auc: 0.7887 - val_loss: 0.3864 - val_auc: 0.8176\n",
      "Epoch 5/100\n",
      "311/311 [==============================] - 2s 7ms/step - loss: 0.4156 - auc: 0.7919 - val_loss: 0.3891 - val_auc: 0.8166\n",
      "Epoch 6/100\n",
      "311/311 [==============================] - 2s 7ms/step - loss: 0.4145 - auc: 0.7926 - val_loss: 0.3924 - val_auc: 0.8189\n",
      "Epoch 7/100\n",
      "311/311 [==============================] - 2s 7ms/step - loss: 0.4139 - auc: 0.7927 - val_loss: 0.3866 - val_auc: 0.8170\n",
      "Epoch 8/100\n",
      "311/311 [==============================] - 2s 7ms/step - loss: 0.4102 - auc: 0.7976 - val_loss: 0.3860 - val_auc: 0.8197\n",
      "Epoch 9/100\n",
      "311/311 [==============================] - 2s 7ms/step - loss: 0.4085 - auc: 0.7978 - val_loss: 0.3854 - val_auc: 0.8208\n",
      "Epoch 10/100\n",
      "311/311 [==============================] - 2s 7ms/step - loss: 0.4096 - auc: 0.7989 - val_loss: 0.3875 - val_auc: 0.8174\n",
      "Epoch 11/100\n",
      "311/311 [==============================] - 2s 7ms/step - loss: 0.4092 - auc: 0.7992 - val_loss: 0.3844 - val_auc: 0.8201\n",
      "Epoch 12/100\n",
      "311/311 [==============================] - 2s 7ms/step - loss: 0.4062 - auc: 0.8017 - val_loss: 0.3862 - val_auc: 0.8204\n",
      "Epoch 13/100\n",
      "311/311 [==============================] - 2s 7ms/step - loss: 0.4057 - auc: 0.8008 - val_loss: 0.3854 - val_auc: 0.8194\n",
      "Epoch 14/100\n",
      "311/311 [==============================] - 2s 7ms/step - loss: 0.3992 - auc: 0.8074 - val_loss: 0.3872 - val_auc: 0.8191\n",
      "Epoch 15/100\n",
      "311/311 [==============================] - 2s 7ms/step - loss: 0.4011 - auc: 0.8076 - val_loss: 0.3831 - val_auc: 0.8208\n",
      "Epoch 16/100\n",
      "311/311 [==============================] - 2s 7ms/step - loss: 0.4034 - auc: 0.8031 - val_loss: 0.3848 - val_auc: 0.8204\n",
      "Epoch 17/100\n",
      "311/311 [==============================] - 2s 7ms/step - loss: 0.3986 - auc: 0.8081 - val_loss: 0.3893 - val_auc: 0.8213\n",
      "Epoch 18/100\n",
      "311/311 [==============================] - 2s 7ms/step - loss: 0.4018 - auc: 0.8034 - val_loss: 0.3870 - val_auc: 0.8193\n",
      "Epoch 19/100\n",
      "311/311 [==============================] - 2s 7ms/step - loss: 0.4021 - auc: 0.8055 - val_loss: 0.3843 - val_auc: 0.8190\n",
      "Epoch 20/100\n",
      "311/311 [==============================] - 2s 7ms/step - loss: 0.3968 - auc: 0.8119 - val_loss: 0.3840 - val_auc: 0.8198\n",
      "Epoch 21/100\n",
      "311/311 [==============================] - 2s 7ms/step - loss: 0.3996 - auc: 0.8080 - val_loss: 0.3917 - val_auc: 0.8199\n",
      "Epoch 22/100\n",
      "311/311 [==============================] - 2s 7ms/step - loss: 0.3948 - auc: 0.8120 - val_loss: 0.3891 - val_auc: 0.8171\n",
      "Epoch 23/100\n",
      "311/311 [==============================] - 2s 7ms/step - loss: 0.3987 - auc: 0.8073 - val_loss: 0.3845 - val_auc: 0.8208\n",
      "Epoch 24/100\n",
      "311/311 [==============================] - 2s 7ms/step - loss: 0.3937 - auc: 0.8136 - val_loss: 0.3823 - val_auc: 0.8211\n",
      "Epoch 25/100\n",
      "311/311 [==============================] - 2s 7ms/step - loss: 0.3950 - auc: 0.8131 - val_loss: 0.3825 - val_auc: 0.8202\n"
     ]
    },
    {
     "data": {
      "text/plain": [
       "<keras.callbacks.History at 0x1412ac096a0>"
      ]
     },
     "execution_count": 8,
     "metadata": {},
     "output_type": "execute_result"
    }
   ],
   "source": [
    "# Callback 함수 불러오기(EarlyStopping, ModelCheckpoint)\n",
    "from custom_modules.modeling import callback_sets\n",
    "savepath = '../tuning-models/CNN_depr.h5'\n",
    "callbacks = callback_sets(monitor='val_auc', mode='max', patience=8, savepath=savepath)\n",
    "# 최적화된 파라미터로 모델 재학습\n",
    "best_model_depr.fit(X_train_depr, y_train_depr,\n",
    "                    validation_data=(X_val_depr, y_val_depr),\n",
    "                    epochs=100,\n",
    "                    callbacks=callbacks)"
   ]
  },
  {
   "cell_type": "code",
   "execution_count": 9,
   "metadata": {},
   "outputs": [
    {
     "name": "stdout",
     "output_type": "stream",
     "text": [
      "311/311 - 1s - loss: 0.3799 - auc: 0.8316 - 992ms/epoch - 3ms/step\n",
      "104/104 - 0s - loss: 0.3893 - auc: 0.8213 - 323ms/epoch - 3ms/step\n",
      "104/104 - 0s - loss: 0.3874 - auc: 0.8156 - 325ms/epoch - 3ms/step\n"
     ]
    },
    {
     "data": {
      "text/plain": [
       "[0.3873653709888458, 0.8156205415725708]"
      ]
     },
     "execution_count": 9,
     "metadata": {},
     "output_type": "execute_result"
    }
   ],
   "source": [
    "# Evaluation Best Model\n",
    "best_model_depr.evaluate(X_train_depr, y_train_depr, verbose=2)\n",
    "best_model_depr.evaluate(X_val_depr, y_val_depr, verbose=2)\n",
    "best_model_depr.evaluate(X_test_depr, y_test_depr, verbose=2)"
   ]
  },
  {
   "cell_type": "code",
   "execution_count": 10,
   "metadata": {},
   "outputs": [
    {
     "name": "stdout",
     "output_type": "stream",
     "text": [
      "311/311 - 1s - loss: 0.3799 - auc: 0.8316 - 1s/epoch - 4ms/step\n",
      "104/104 - 0s - loss: 0.3893 - auc: 0.8213 - 326ms/epoch - 3ms/step\n",
      "104/104 - 0s - loss: 0.3874 - auc: 0.8156 - 326ms/epoch - 3ms/step\n"
     ]
    },
    {
     "data": {
      "text/plain": [
       "[0.3873653709888458, 0.8156205415725708]"
      ]
     },
     "execution_count": 10,
     "metadata": {},
     "output_type": "execute_result"
    }
   ],
   "source": [
    "# Saved model Evaluation\n",
    "from keras.models import load_model\n",
    "model_test_depr = load_model('../tuning-models/CNN_depr.h5')\n",
    "model_test_depr.evaluate(X_train_depr, y_train_depr, verbose=2)\n",
    "model_test_depr.evaluate(X_val_depr, y_val_depr, verbose=2)\n",
    "model_test_depr.evaluate(X_test_depr, y_test_depr, verbose=2)"
   ]
  },
  {
   "attachments": {},
   "cell_type": "markdown",
   "metadata": {},
   "source": [
    "- EarlyStopping이 적용된 Best 모델과 저장된 모델의 Evaluation 수치가 동일함을 확인."
   ]
  },
  {
   "attachments": {},
   "cell_type": "markdown",
   "metadata": {},
   "source": [
    "### ⚙️ MDD(경도우울증vs주요우울장애) Model Tuning "
   ]
  },
  {
   "cell_type": "code",
   "execution_count": 11,
   "metadata": {},
   "outputs": [
    {
     "name": "stdout",
     "output_type": "stream",
     "text": [
      "Trial 30 Complete [00h 00m 08s]\n",
      "val_auc: 0.6838897466659546\n",
      "\n",
      "Best val_auc So Far: 0.7213106751441956\n",
      "Total elapsed time: 00h 01m 56s\n",
      "INFO:tensorflow:Oracle triggered exit\n"
     ]
    }
   ],
   "source": [
    "# Depression과 동일한 구조와 방식으로 진행함\n",
    "tuner_mdd = kt.Hyperband(hypermodel=model_builder_cnn,\n",
    "                         objective=kt.Objective(name='val_auc', direction='max'),\n",
    "                         max_epochs=10,\n",
    "                         factor=3,\n",
    "                         directory='kt_tuning',\n",
    "                         project_name='cnn_tuning_mdd')\n",
    "tuner_mdd.search(X_train_mdd, y_train_mdd,\n",
    "                 epochs=10,\n",
    "                 validation_data=(X_val_mdd, y_val_mdd),\n",
    "                 callbacks=[ClearTrainingOutput()])\n",
    "best_hps_mdd = tuner_mdd.get_best_hyperparameters(num_trials=1)[0]"
   ]
  },
  {
   "cell_type": "code",
   "execution_count": 12,
   "metadata": {},
   "outputs": [
    {
     "name": "stdout",
     "output_type": "stream",
     "text": [
      "\n",
      "      최적화된 Conv1D_Filters : 32\n",
      "      최적화된 kernel_size : 4\n",
      "      최적화된 FC_units : 256\n",
      "      최적화된 Dropout_rate : 0.8\n",
      "      최적화된 learning_rate : 0.01\n",
      "      \n"
     ]
    }
   ],
   "source": [
    "print(f\"\"\"\n",
    "      최적화된 Conv1D_Filters : {best_hps_mdd.get('Conv1D_Filters')}\n",
    "      최적화된 kernel_size : {best_hps_mdd.get('kernel_size')}\n",
    "      최적화된 FC_units : {best_hps_mdd.get('FC_units')}\n",
    "      최적화된 Dropout_rate : {best_hps_mdd.get('Dropout_rate')}\n",
    "      최적화된 learning_rate : {best_hps_mdd.get('learning_rate')}\n",
    "      \"\"\")"
   ]
  },
  {
   "cell_type": "code",
   "execution_count": 13,
   "metadata": {},
   "outputs": [
    {
     "name": "stdout",
     "output_type": "stream",
     "text": [
      "Model: \"Sequential\"\n",
      "_________________________________________________________________\n",
      " Layer (type)                Output Shape              Param #   \n",
      "=================================================================\n",
      " Conv1D_Layer (Conv1D)       (None, 44, 32)            160       \n",
      "                                                                 \n",
      " Batch_Normalization (BatchN  (None, 44, 32)           128       \n",
      " ormalization)                                                   \n",
      "                                                                 \n",
      " Flatten_Layer (Flatten)     (None, 1408)              0         \n",
      "                                                                 \n",
      " FC_Dense_Layer (Dense)      (None, 256)               360704    \n",
      "                                                                 \n",
      " Dropout (Dropout)           (None, 256)               0         \n",
      "                                                                 \n",
      " Output_Layer (Dense)        (None, 1)                 257       \n",
      "                                                                 \n",
      "=================================================================\n",
      "Total params: 361,249\n",
      "Trainable params: 361,185\n",
      "Non-trainable params: 64\n",
      "_________________________________________________________________\n"
     ]
    }
   ],
   "source": [
    "# 최적화된 파라미터로 모델을 다시 Build\n",
    "best_model_mdd = tuner_mdd.hypermodel.build(best_hps_mdd)\n",
    "# 모델 구조 출력\n",
    "best_model_mdd.summary()"
   ]
  },
  {
   "cell_type": "code",
   "execution_count": 14,
   "metadata": {},
   "outputs": [
    {
     "name": "stdout",
     "output_type": "stream",
     "text": [
      "Epoch 1/100\n",
      "63/63 [==============================] - 2s 13ms/step - loss: 1.9440 - auc: 0.5732 - val_loss: 0.5822 - val_auc: 0.6898\n",
      "Epoch 2/100\n",
      "63/63 [==============================] - 0s 7ms/step - loss: 0.6090 - auc: 0.6411 - val_loss: 0.5531 - val_auc: 0.6980\n",
      "Epoch 3/100\n",
      "63/63 [==============================] - 0s 7ms/step - loss: 0.5620 - auc: 0.6804 - val_loss: 0.5442 - val_auc: 0.6949\n",
      "Epoch 4/100\n",
      "63/63 [==============================] - 0s 8ms/step - loss: 0.5401 - auc: 0.7053 - val_loss: 0.5467 - val_auc: 0.7024\n",
      "Epoch 5/100\n",
      "63/63 [==============================] - 0s 8ms/step - loss: 0.5252 - auc: 0.7127 - val_loss: 0.5373 - val_auc: 0.7120\n",
      "Epoch 6/100\n",
      "63/63 [==============================] - 0s 7ms/step - loss: 0.5213 - auc: 0.7252 - val_loss: 0.5407 - val_auc: 0.7022\n",
      "Epoch 7/100\n",
      "63/63 [==============================] - 0s 7ms/step - loss: 0.5097 - auc: 0.7431 - val_loss: 0.5357 - val_auc: 0.7088\n",
      "Epoch 8/100\n",
      "63/63 [==============================] - 1s 8ms/step - loss: 0.5019 - auc: 0.7483 - val_loss: 0.5418 - val_auc: 0.7153\n",
      "Epoch 9/100\n",
      "63/63 [==============================] - 1s 8ms/step - loss: 0.5151 - auc: 0.7445 - val_loss: 0.5358 - val_auc: 0.7147\n",
      "Epoch 10/100\n",
      "63/63 [==============================] - 0s 7ms/step - loss: 0.4917 - auc: 0.7695 - val_loss: 0.5405 - val_auc: 0.7072\n",
      "Epoch 11/100\n",
      "63/63 [==============================] - 0s 8ms/step - loss: 0.5046 - auc: 0.7461 - val_loss: 0.5423 - val_auc: 0.7064\n",
      "Epoch 12/100\n",
      "63/63 [==============================] - 0s 7ms/step - loss: 0.5030 - auc: 0.7560 - val_loss: 0.5485 - val_auc: 0.7055\n",
      "Epoch 13/100\n",
      "63/63 [==============================] - 0s 7ms/step - loss: 0.4983 - auc: 0.7616 - val_loss: 0.5533 - val_auc: 0.7034\n",
      "Epoch 14/100\n",
      "63/63 [==============================] - 0s 7ms/step - loss: 0.4979 - auc: 0.7612 - val_loss: 0.5550 - val_auc: 0.7084\n",
      "Epoch 15/100\n",
      "63/63 [==============================] - 0s 8ms/step - loss: 0.4931 - auc: 0.7649 - val_loss: 0.5403 - val_auc: 0.7135\n",
      "Epoch 16/100\n",
      "63/63 [==============================] - 0s 7ms/step - loss: 0.5055 - auc: 0.7533 - val_loss: 0.5466 - val_auc: 0.7012\n"
     ]
    },
    {
     "data": {
      "text/plain": [
       "<keras.callbacks.History at 0x1412764b0d0>"
      ]
     },
     "execution_count": 14,
     "metadata": {},
     "output_type": "execute_result"
    }
   ],
   "source": [
    "savepath_mdd = '../tuning-models/CNN_mdd.h5'\n",
    "callbacks_mdd = callback_sets(monitor='val_auc', mode='max', patience=8, savepath=savepath_mdd)\n",
    "# 최적화된 파라미터로 모델 재학습\n",
    "best_model_mdd.fit(X_train_mdd, y_train_mdd,\n",
    "                    validation_data=(X_val_mdd, y_val_mdd),\n",
    "                    epochs=100,\n",
    "                    callbacks=callbacks_mdd)"
   ]
  },
  {
   "cell_type": "code",
   "execution_count": 15,
   "metadata": {},
   "outputs": [
    {
     "name": "stdout",
     "output_type": "stream",
     "text": [
      "63/63 - 0s - loss: 0.5034 - auc: 0.8009 - 465ms/epoch - 7ms/step\n",
      "21/21 - 0s - loss: 0.5418 - auc: 0.7153 - 74ms/epoch - 4ms/step\n",
      "21/21 - 0s - loss: 0.5226 - auc: 0.7447 - 82ms/epoch - 4ms/step\n"
     ]
    },
    {
     "data": {
      "text/plain": [
       "[0.5226476192474365, 0.7446709871292114]"
      ]
     },
     "execution_count": 15,
     "metadata": {},
     "output_type": "execute_result"
    }
   ],
   "source": [
    "# Evaluation Best Model\n",
    "best_model_mdd.evaluate(X_train_mdd, y_train_mdd, verbose=2)\n",
    "best_model_mdd.evaluate(X_val_mdd, y_val_mdd, verbose=2)\n",
    "best_model_mdd.evaluate(X_test_mdd, y_test_mdd, verbose=2)"
   ]
  },
  {
   "cell_type": "code",
   "execution_count": 16,
   "metadata": {},
   "outputs": [
    {
     "name": "stdout",
     "output_type": "stream",
     "text": [
      "63/63 - 0s - loss: 0.5034 - auc: 0.8009 - 438ms/epoch - 7ms/step\n",
      "21/21 - 0s - loss: 0.5418 - auc: 0.7153 - 85ms/epoch - 4ms/step\n",
      "21/21 - 0s - loss: 0.5226 - auc: 0.7447 - 81ms/epoch - 4ms/step\n"
     ]
    },
    {
     "data": {
      "text/plain": [
       "[0.5226476192474365, 0.7446709871292114]"
      ]
     },
     "execution_count": 16,
     "metadata": {},
     "output_type": "execute_result"
    }
   ],
   "source": [
    "# Saved model Evaluation\n",
    "model_test_mdd = load_model('../tuning-models/CNN_mdd.h5')\n",
    "model_test_mdd.evaluate(X_train_mdd, y_train_mdd, verbose=2)\n",
    "model_test_mdd.evaluate(X_val_mdd, y_val_mdd, verbose=2)\n",
    "model_test_mdd.evaluate(X_test_mdd, y_test_mdd, verbose=2)"
   ]
  },
  {
   "attachments": {},
   "cell_type": "markdown",
   "metadata": {},
   "source": [
    "- EarlyStopping이 적용된 Best 모델과 저장된 모델의 Evaluation 수치가 동일함을 확인."
   ]
  }
 ],
 "metadata": {
  "kernelspec": {
   "display_name": "Kr-deep-ml",
   "language": "python",
   "name": "python3"
  },
  "language_info": {
   "codemirror_mode": {
    "name": "ipython",
    "version": 3
   },
   "file_extension": ".py",
   "mimetype": "text/x-python",
   "name": "python",
   "nbconvert_exporter": "python",
   "pygments_lexer": "ipython3",
   "version": "3.8.16"
  },
  "orig_nbformat": 4,
  "vscode": {
   "interpreter": {
    "hash": "c76392c475892b045c58a048aaac6e49d6e7cc4168edf1cdbe1dafc077c6475a"
   }
  }
 },
 "nbformat": 4,
 "nbformat_minor": 2
}
