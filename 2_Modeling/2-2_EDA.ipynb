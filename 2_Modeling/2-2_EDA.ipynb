{
 "cells": [
  {
   "attachments": {},
   "cell_type": "markdown",
   "metadata": {},
   "source": [
    "# 🧠 Kor-DEEPression\n",
    "### 📊 Step 2-2. EDA 및 시각화 분석\n",
    "> 🍷 작성자 : Codestates AIB 15기 정경재 (Kyung Jae, Cheong)\n",
    "---"
   ]
  },
  {
   "attachments": {},
   "cell_type": "markdown",
   "metadata": {},
   "source": [
    "### 💻 라이브러리 및 데이터 불러오기"
   ]
  },
  {
   "attachments": {},
   "cell_type": "markdown",
   "metadata": {},
   "source": [
    "- Library Import (라이브러리 불러오기)"
   ]
  },
  {
   "cell_type": "code",
   "execution_count": 13,
   "metadata": {},
   "outputs": [],
   "source": [
    "# Library Import\n",
    "import numpy as np\n",
    "import pandas as pd\n",
    "\n",
    "import matplotlib.pyplot as plt\n",
    "import seaborn as sns\n",
    "import plotly.express as plex\n",
    "import plotly.graph_objects as go\n",
    "from plotly.subplots import make_subplots as plsp\n",
    "\n",
    "# Matplotlib setting for VSCode\n",
    "plt.rcParams['font.family'] = 'Malgun Gothic'\n",
    "plt.rcParams['axes.unicode_minus'] = False\n",
    "# Renderer setting for VSCode & Github\n",
    "import plotly.io as pio\n",
    "pio.renderers.default = 'vscode+png'"
   ]
  },
  {
   "attachments": {},
   "cell_type": "markdown",
   "metadata": {},
   "source": [
    "- EDA Data Import (EDA 데이터 불러오기)"
   ]
  },
  {
   "cell_type": "code",
   "execution_count": 2,
   "metadata": {},
   "outputs": [
    {
     "name": "stdout",
     "output_type": "stream",
     "text": [
      "Depression(정상vs우울증)\n"
     ]
    },
    {
     "data": {
      "text/html": [
       "<div>\n",
       "<style scoped>\n",
       "    .dataframe tbody tr th:only-of-type {\n",
       "        vertical-align: middle;\n",
       "    }\n",
       "\n",
       "    .dataframe tbody tr th {\n",
       "        vertical-align: top;\n",
       "    }\n",
       "\n",
       "    .dataframe thead th {\n",
       "        text-align: right;\n",
       "    }\n",
       "</style>\n",
       "<table border=\"1\" class=\"dataframe\">\n",
       "  <thead>\n",
       "    <tr style=\"text-align: right;\">\n",
       "      <th></th>\n",
       "      <th>id</th>\n",
       "      <th>year</th>\n",
       "      <th>age</th>\n",
       "      <th>BMI</th>\n",
       "      <th>sex</th>\n",
       "      <th>education</th>\n",
       "      <th>household</th>\n",
       "      <th>marital</th>\n",
       "      <th>economy</th>\n",
       "      <th>subj_health</th>\n",
       "      <th>...</th>\n",
       "      <th>modality</th>\n",
       "      <th>w_change</th>\n",
       "      <th>high_bp</th>\n",
       "      <th>diabetes</th>\n",
       "      <th>dyslipidemia</th>\n",
       "      <th>drk_freq</th>\n",
       "      <th>drk_amount</th>\n",
       "      <th>smoke</th>\n",
       "      <th>stress</th>\n",
       "      <th>depression</th>\n",
       "    </tr>\n",
       "  </thead>\n",
       "  <tbody>\n",
       "    <tr>\n",
       "      <th>0</th>\n",
       "      <td>A209716213</td>\n",
       "      <td>2014</td>\n",
       "      <td>30</td>\n",
       "      <td>28.939858</td>\n",
       "      <td>Female</td>\n",
       "      <td>대졸 이상</td>\n",
       "      <td>2세대</td>\n",
       "      <td>미혼</td>\n",
       "      <td>실업자/비경제활동인구</td>\n",
       "      <td>보통</td>\n",
       "      <td>...</td>\n",
       "      <td>No</td>\n",
       "      <td>No</td>\n",
       "      <td>No</td>\n",
       "      <td>No</td>\n",
       "      <td>No</td>\n",
       "      <td>월 1회 미만</td>\n",
       "      <td>1-2잔</td>\n",
       "      <td>비흡연/과거흡연</td>\n",
       "      <td>적게 느끼는 편임</td>\n",
       "      <td>No</td>\n",
       "    </tr>\n",
       "    <tr>\n",
       "      <th>1</th>\n",
       "      <td>A209716216</td>\n",
       "      <td>2014</td>\n",
       "      <td>29</td>\n",
       "      <td>28.659708</td>\n",
       "      <td>Male</td>\n",
       "      <td>대졸 이상</td>\n",
       "      <td>2세대</td>\n",
       "      <td>미혼</td>\n",
       "      <td>실업자/비경제활동인구</td>\n",
       "      <td>보통</td>\n",
       "      <td>...</td>\n",
       "      <td>No</td>\n",
       "      <td>No</td>\n",
       "      <td>No</td>\n",
       "      <td>No</td>\n",
       "      <td>No</td>\n",
       "      <td>월 2-4회 정도</td>\n",
       "      <td>5-6잔</td>\n",
       "      <td>비흡연/과거흡연</td>\n",
       "      <td>거의 느끼지 않음</td>\n",
       "      <td>No</td>\n",
       "    </tr>\n",
       "    <tr>\n",
       "      <th>2</th>\n",
       "      <td>A209724716</td>\n",
       "      <td>2014</td>\n",
       "      <td>65</td>\n",
       "      <td>20.188238</td>\n",
       "      <td>Male</td>\n",
       "      <td>초졸 이하</td>\n",
       "      <td>1세대</td>\n",
       "      <td>기혼(유배우자)</td>\n",
       "      <td>취업자</td>\n",
       "      <td>보통</td>\n",
       "      <td>...</td>\n",
       "      <td>No</td>\n",
       "      <td>No</td>\n",
       "      <td>Yes</td>\n",
       "      <td>Yes</td>\n",
       "      <td>No</td>\n",
       "      <td>평생 마셔본 적 없음</td>\n",
       "      <td>전혀 안마심</td>\n",
       "      <td>현재흡연</td>\n",
       "      <td>적게 느끼는 편임</td>\n",
       "      <td>No</td>\n",
       "    </tr>\n",
       "    <tr>\n",
       "      <th>3</th>\n",
       "      <td>A209731516</td>\n",
       "      <td>2014</td>\n",
       "      <td>66</td>\n",
       "      <td>24.145909</td>\n",
       "      <td>Male</td>\n",
       "      <td>대졸 이상</td>\n",
       "      <td>1세대</td>\n",
       "      <td>기혼(유배우자)</td>\n",
       "      <td>실업자/비경제활동인구</td>\n",
       "      <td>좋음</td>\n",
       "      <td>...</td>\n",
       "      <td>No</td>\n",
       "      <td>No</td>\n",
       "      <td>No</td>\n",
       "      <td>No</td>\n",
       "      <td>No</td>\n",
       "      <td>1년간 마셔본 적 없음</td>\n",
       "      <td>전혀 안마심</td>\n",
       "      <td>비흡연/과거흡연</td>\n",
       "      <td>적게 느끼는 편임</td>\n",
       "      <td>No</td>\n",
       "    </tr>\n",
       "    <tr>\n",
       "      <th>4</th>\n",
       "      <td>A209736615</td>\n",
       "      <td>2014</td>\n",
       "      <td>41</td>\n",
       "      <td>30.598080</td>\n",
       "      <td>Female</td>\n",
       "      <td>고졸</td>\n",
       "      <td>2세대</td>\n",
       "      <td>기혼(유배우자)</td>\n",
       "      <td>실업자/비경제활동인구</td>\n",
       "      <td>보통</td>\n",
       "      <td>...</td>\n",
       "      <td>Yes</td>\n",
       "      <td>No</td>\n",
       "      <td>No</td>\n",
       "      <td>No</td>\n",
       "      <td>No</td>\n",
       "      <td>주 4회 이상</td>\n",
       "      <td>10잔 이상</td>\n",
       "      <td>비흡연/과거흡연</td>\n",
       "      <td>대단히 많이 느낌</td>\n",
       "      <td>Yes</td>\n",
       "    </tr>\n",
       "  </tbody>\n",
       "</table>\n",
       "<p>5 rows × 21 columns</p>\n",
       "</div>"
      ],
      "text/plain": [
       "           id  year  age        BMI     sex education household   marital  \\\n",
       "0  A209716213  2014   30  28.939858  Female     대졸 이상       2세대        미혼   \n",
       "1  A209716216  2014   29  28.659708    Male     대졸 이상       2세대        미혼   \n",
       "2  A209724716  2014   65  20.188238    Male     초졸 이하       1세대  기혼(유배우자)   \n",
       "3  A209731516  2014   66  24.145909    Male     대졸 이상       1세대  기혼(유배우자)   \n",
       "4  A209736615  2014   41  30.598080  Female        고졸       2세대  기혼(유배우자)   \n",
       "\n",
       "       economy subj_health  ... modality w_change high_bp diabetes  \\\n",
       "0  실업자/비경제활동인구          보통  ...       No       No      No       No   \n",
       "1  실업자/비경제활동인구          보통  ...       No       No      No       No   \n",
       "2          취업자          보통  ...       No       No     Yes      Yes   \n",
       "3  실업자/비경제활동인구          좋음  ...       No       No      No       No   \n",
       "4  실업자/비경제활동인구          보통  ...      Yes       No      No       No   \n",
       "\n",
       "  dyslipidemia      drk_freq drk_amount     smoke     stress depression  \n",
       "0           No       월 1회 미만       1-2잔  비흡연/과거흡연  적게 느끼는 편임         No  \n",
       "1           No     월 2-4회 정도       5-6잔  비흡연/과거흡연  거의 느끼지 않음         No  \n",
       "2           No   평생 마셔본 적 없음     전혀 안마심      현재흡연  적게 느끼는 편임         No  \n",
       "3           No  1년간 마셔본 적 없음     전혀 안마심  비흡연/과거흡연  적게 느끼는 편임         No  \n",
       "4           No       주 4회 이상     10잔 이상  비흡연/과거흡연  대단히 많이 느낌        Yes  \n",
       "\n",
       "[5 rows x 21 columns]"
      ]
     },
     "execution_count": 2,
     "metadata": {},
     "output_type": "execute_result"
    }
   ],
   "source": [
    "# csv파일을 DataFrame으로 불러오기(Depression)\n",
    "df_depr = pd.read_csv('downloads/EDA_depr.csv')\n",
    "print(\"Depression(정상vs우울증)\")\n",
    "df_depr.head()"
   ]
  },
  {
   "cell_type": "code",
   "execution_count": 3,
   "metadata": {},
   "outputs": [
    {
     "name": "stdout",
     "output_type": "stream",
     "text": [
      "MDD(경도우울vs주요우울)\n"
     ]
    },
    {
     "data": {
      "text/html": [
       "<div>\n",
       "<style scoped>\n",
       "    .dataframe tbody tr th:only-of-type {\n",
       "        vertical-align: middle;\n",
       "    }\n",
       "\n",
       "    .dataframe tbody tr th {\n",
       "        vertical-align: top;\n",
       "    }\n",
       "\n",
       "    .dataframe thead th {\n",
       "        text-align: right;\n",
       "    }\n",
       "</style>\n",
       "<table border=\"1\" class=\"dataframe\">\n",
       "  <thead>\n",
       "    <tr style=\"text-align: right;\">\n",
       "      <th></th>\n",
       "      <th>id</th>\n",
       "      <th>year</th>\n",
       "      <th>age</th>\n",
       "      <th>BMI</th>\n",
       "      <th>sex</th>\n",
       "      <th>education</th>\n",
       "      <th>household</th>\n",
       "      <th>marital</th>\n",
       "      <th>economy</th>\n",
       "      <th>subj_health</th>\n",
       "      <th>...</th>\n",
       "      <th>modality</th>\n",
       "      <th>w_change</th>\n",
       "      <th>high_bp</th>\n",
       "      <th>diabetes</th>\n",
       "      <th>dyslipidemia</th>\n",
       "      <th>drk_freq</th>\n",
       "      <th>drk_amount</th>\n",
       "      <th>smoke</th>\n",
       "      <th>stress</th>\n",
       "      <th>MDD</th>\n",
       "    </tr>\n",
       "  </thead>\n",
       "  <tbody>\n",
       "    <tr>\n",
       "      <th>0</th>\n",
       "      <td>A209736615</td>\n",
       "      <td>2014</td>\n",
       "      <td>41</td>\n",
       "      <td>30.598080</td>\n",
       "      <td>Female</td>\n",
       "      <td>고졸</td>\n",
       "      <td>2세대</td>\n",
       "      <td>기혼(유배우자)</td>\n",
       "      <td>실업자/비경제활동인구</td>\n",
       "      <td>보통</td>\n",
       "      <td>...</td>\n",
       "      <td>Yes</td>\n",
       "      <td>No</td>\n",
       "      <td>No</td>\n",
       "      <td>No</td>\n",
       "      <td>No</td>\n",
       "      <td>주 4회 이상</td>\n",
       "      <td>10잔 이상</td>\n",
       "      <td>비흡연/과거흡연</td>\n",
       "      <td>대단히 많이 느낌</td>\n",
       "      <td>No</td>\n",
       "    </tr>\n",
       "    <tr>\n",
       "      <th>1</th>\n",
       "      <td>A209745116</td>\n",
       "      <td>2014</td>\n",
       "      <td>40</td>\n",
       "      <td>27.439809</td>\n",
       "      <td>Male</td>\n",
       "      <td>고졸</td>\n",
       "      <td>1인 가구</td>\n",
       "      <td>미혼</td>\n",
       "      <td>취업자</td>\n",
       "      <td>보통</td>\n",
       "      <td>...</td>\n",
       "      <td>No</td>\n",
       "      <td>No</td>\n",
       "      <td>Yes</td>\n",
       "      <td>No</td>\n",
       "      <td>No</td>\n",
       "      <td>주 2-3회 정도</td>\n",
       "      <td>10잔 이상</td>\n",
       "      <td>비흡연/과거흡연</td>\n",
       "      <td>많이 느끼는 편임</td>\n",
       "      <td>No</td>\n",
       "    </tr>\n",
       "    <tr>\n",
       "      <th>2</th>\n",
       "      <td>A209799515</td>\n",
       "      <td>2014</td>\n",
       "      <td>64</td>\n",
       "      <td>27.029877</td>\n",
       "      <td>Female</td>\n",
       "      <td>고졸</td>\n",
       "      <td>2세대</td>\n",
       "      <td>기혼(유배우자)</td>\n",
       "      <td>취업자</td>\n",
       "      <td>보통</td>\n",
       "      <td>...</td>\n",
       "      <td>No</td>\n",
       "      <td>No</td>\n",
       "      <td>Yes</td>\n",
       "      <td>No</td>\n",
       "      <td>No</td>\n",
       "      <td>월 2-4회 정도</td>\n",
       "      <td>1-2잔</td>\n",
       "      <td>비흡연/과거흡연</td>\n",
       "      <td>많이 느끼는 편임</td>\n",
       "      <td>No</td>\n",
       "    </tr>\n",
       "    <tr>\n",
       "      <th>3</th>\n",
       "      <td>A210729816</td>\n",
       "      <td>2014</td>\n",
       "      <td>64</td>\n",
       "      <td>18.286207</td>\n",
       "      <td>Female</td>\n",
       "      <td>초졸 이하</td>\n",
       "      <td>1인 가구</td>\n",
       "      <td>사별/이혼</td>\n",
       "      <td>실업자/비경제활동인구</td>\n",
       "      <td>매우 나쁨</td>\n",
       "      <td>...</td>\n",
       "      <td>Yes</td>\n",
       "      <td>No</td>\n",
       "      <td>Yes</td>\n",
       "      <td>No</td>\n",
       "      <td>Yes</td>\n",
       "      <td>1년간 마셔본 적 없음</td>\n",
       "      <td>전혀 안마심</td>\n",
       "      <td>비흡연/과거흡연</td>\n",
       "      <td>적게 느끼는 편임</td>\n",
       "      <td>Yes</td>\n",
       "    </tr>\n",
       "    <tr>\n",
       "      <th>4</th>\n",
       "      <td>A210741715</td>\n",
       "      <td>2014</td>\n",
       "      <td>73</td>\n",
       "      <td>21.068808</td>\n",
       "      <td>Female</td>\n",
       "      <td>초졸 이하</td>\n",
       "      <td>1세대</td>\n",
       "      <td>기혼(유배우자)</td>\n",
       "      <td>취업자</td>\n",
       "      <td>나쁨</td>\n",
       "      <td>...</td>\n",
       "      <td>Yes</td>\n",
       "      <td>No</td>\n",
       "      <td>Yes</td>\n",
       "      <td>No</td>\n",
       "      <td>Yes</td>\n",
       "      <td>1년간 마셔본 적 없음</td>\n",
       "      <td>전혀 안마심</td>\n",
       "      <td>비흡연/과거흡연</td>\n",
       "      <td>많이 느끼는 편임</td>\n",
       "      <td>Yes</td>\n",
       "    </tr>\n",
       "  </tbody>\n",
       "</table>\n",
       "<p>5 rows × 21 columns</p>\n",
       "</div>"
      ],
      "text/plain": [
       "           id  year  age        BMI     sex education household   marital  \\\n",
       "0  A209736615  2014   41  30.598080  Female        고졸       2세대  기혼(유배우자)   \n",
       "1  A209745116  2014   40  27.439809    Male        고졸     1인 가구        미혼   \n",
       "2  A209799515  2014   64  27.029877  Female        고졸       2세대  기혼(유배우자)   \n",
       "3  A210729816  2014   64  18.286207  Female     초졸 이하     1인 가구     사별/이혼   \n",
       "4  A210741715  2014   73  21.068808  Female     초졸 이하       1세대  기혼(유배우자)   \n",
       "\n",
       "       economy subj_health  ... modality w_change high_bp diabetes  \\\n",
       "0  실업자/비경제활동인구          보통  ...      Yes       No      No       No   \n",
       "1          취업자          보통  ...       No       No     Yes       No   \n",
       "2          취업자          보통  ...       No       No     Yes       No   \n",
       "3  실업자/비경제활동인구       매우 나쁨  ...      Yes       No     Yes       No   \n",
       "4          취업자          나쁨  ...      Yes       No     Yes       No   \n",
       "\n",
       "  dyslipidemia      drk_freq drk_amount     smoke     stress  MDD  \n",
       "0           No       주 4회 이상     10잔 이상  비흡연/과거흡연  대단히 많이 느낌   No  \n",
       "1           No     주 2-3회 정도     10잔 이상  비흡연/과거흡연  많이 느끼는 편임   No  \n",
       "2           No     월 2-4회 정도       1-2잔  비흡연/과거흡연  많이 느끼는 편임   No  \n",
       "3          Yes  1년간 마셔본 적 없음     전혀 안마심  비흡연/과거흡연  적게 느끼는 편임  Yes  \n",
       "4          Yes  1년간 마셔본 적 없음     전혀 안마심  비흡연/과거흡연  많이 느끼는 편임  Yes  \n",
       "\n",
       "[5 rows x 21 columns]"
      ]
     },
     "execution_count": 3,
     "metadata": {},
     "output_type": "execute_result"
    }
   ],
   "source": [
    "# csv파일을 DataFrame으로 불러오기(MDD)\n",
    "df_mdd = pd.read_csv('downloads/EDA_mdd.csv')\n",
    "print(\"MDD(경도우울vs주요우울)\")\n",
    "df_mdd.head()"
   ]
  },
  {
   "attachments": {},
   "cell_type": "markdown",
   "metadata": {},
   "source": [
    "### 🔎 데이터 확인"
   ]
  },
  {
   "attachments": {},
   "cell_type": "markdown",
   "metadata": {},
   "source": [
    "- Shape (모양 확인)"
   ]
  },
  {
   "cell_type": "code",
   "execution_count": 4,
   "metadata": {},
   "outputs": [
    {
     "name": "stdout",
     "output_type": "stream",
     "text": [
      "Data Shape (Depression) : (16570, 21)\n",
      "Data Shape (MDD) : (3359, 21)\n"
     ]
    }
   ],
   "source": [
    "# Shape 확인\n",
    "print(f\"Data Shape (Depression) : {df_depr.shape}\")\n",
    "print(f\"Data Shape (MDD) : {df_mdd.shape}\")"
   ]
  },
  {
   "attachments": {},
   "cell_type": "markdown",
   "metadata": {},
   "source": [
    "- Check Null values & Duplicate values (결측값 및 중복값)"
   ]
  },
  {
   "cell_type": "code",
   "execution_count": 5,
   "metadata": {},
   "outputs": [
    {
     "name": "stdout",
     "output_type": "stream",
     "text": [
      "Sum of Null Values (Depression) : 0\n",
      "Sum of Null Values (MDD) : 0\n",
      "Sum of Duplicated Data (Depression) : 0\n",
      "Sum of Duplicated Data (MDD) : 0\n"
     ]
    }
   ],
   "source": [
    "# 결측치 확인\n",
    "print(f\"Sum of Null Values (Depression) : {df_depr.isnull().sum().sum()}\")\n",
    "print(f\"Sum of Null Values (MDD) : {df_mdd.isnull().sum().sum()}\")\n",
    "# 중복값 확인 (고유식별코드인 \"id\" column만 확인)\n",
    "print(f\"Sum of Duplicated Data (Depression) : {df_depr.id.duplicated().sum()}\")\n",
    "print(f\"Sum of Duplicated Data (MDD) : {df_mdd.id.duplicated().sum()}\")"
   ]
  },
  {
   "attachments": {},
   "cell_type": "markdown",
   "metadata": {},
   "source": [
    "- column's dtype (column 타입)"
   ]
  },
  {
   "cell_type": "code",
   "execution_count": 6,
   "metadata": {},
   "outputs": [
    {
     "name": "stdout",
     "output_type": "stream",
     "text": [
      "Dtypes (Depression)\n",
      "id               object\n",
      "year              int64\n",
      "age               int64\n",
      "BMI             float64\n",
      "sex              object\n",
      "education        object\n",
      "household        object\n",
      "marital          object\n",
      "economy          object\n",
      "subj_health      object\n",
      "limitation       object\n",
      "modality         object\n",
      "w_change         object\n",
      "high_bp          object\n",
      "diabetes         object\n",
      "dyslipidemia     object\n",
      "drk_freq         object\n",
      "drk_amount       object\n",
      "smoke            object\n",
      "stress           object\n",
      "depression       object\n",
      "dtype: object\n"
     ]
    }
   ],
   "source": [
    "# Column 별 dtype을 확인 (Depression)\n",
    "print(\"Dtypes (Depression)\")\n",
    "print(df_depr.dtypes)"
   ]
  },
  {
   "cell_type": "code",
   "execution_count": 7,
   "metadata": {},
   "outputs": [
    {
     "name": "stdout",
     "output_type": "stream",
     "text": [
      "Dtypes (MDD)\n",
      "id               object\n",
      "year              int64\n",
      "age               int64\n",
      "BMI             float64\n",
      "sex              object\n",
      "education        object\n",
      "household        object\n",
      "marital          object\n",
      "economy          object\n",
      "subj_health      object\n",
      "limitation       object\n",
      "modality         object\n",
      "w_change         object\n",
      "high_bp          object\n",
      "diabetes         object\n",
      "dyslipidemia     object\n",
      "drk_freq         object\n",
      "drk_amount       object\n",
      "smoke            object\n",
      "stress           object\n",
      "MDD              object\n",
      "dtype: object\n"
     ]
    }
   ],
   "source": [
    "# Column 별 dtype을 확인 (MDD)\n",
    "print(\"Dtypes (MDD)\")\n",
    "print(df_mdd.dtypes)"
   ]
  },
  {
   "cell_type": "code",
   "execution_count": 8,
   "metadata": {},
   "outputs": [
    {
     "data": {
      "text/plain": [
       "True"
      ]
     },
     "execution_count": 8,
     "metadata": {},
     "output_type": "execute_result"
    }
   ],
   "source": [
    "# dtype 일치여부 확인\n",
    "list(df_depr.dtypes) == list(df_mdd.dtypes)"
   ]
  },
  {
   "attachments": {},
   "cell_type": "markdown",
   "metadata": {},
   "source": [
    "- Variable Classification (변수 분류)"
   ]
  },
  {
   "cell_type": "code",
   "execution_count": 9,
   "metadata": {},
   "outputs": [
    {
     "name": "stdout",
     "output_type": "stream",
     "text": [
      "(Depression)\n",
      "Sum of Numerical Data : 3\n",
      "Sum of Categorical Data : 17\n",
      "(MDD)\n",
      "Sum of Numerical Data : 3\n",
      "Sum of Categorical Data : 17\n"
     ]
    }
   ],
   "source": [
    "# 식별코드 \"id\"를 제외한 변수들의 수치형 변수 및 범주형 변수 갯수 확인\n",
    "# describe() 함수의 include 기능을 활용하여 갯수를 산출함(number에 int,float 모두 포함되므로 좀 더 간편하게 산출할 수 있음)\n",
    "print('(Depression)')\n",
    "print(f\"Sum of Numerical Data : {df_depr.iloc[:,1:].describe(include=['number']).shape[1]}\")\n",
    "print(f\"Sum of Categorical Data : {df_depr.iloc[:,1:].describe(include=['object']).shape[1]}\")\n",
    "print('(MDD)')\n",
    "print(f\"Sum of Numerical Data : {df_mdd.iloc[:,1:].describe(include=['number']).shape[1]}\")\n",
    "print(f\"Sum of Categorical Data : {df_mdd.iloc[:,1:].describe(include=['object']).shape[1]}\")"
   ]
  },
  {
   "attachments": {},
   "cell_type": "markdown",
   "metadata": {},
   "source": [
    "- Descriptive Statistics (기술 통계 요약)"
   ]
  },
  {
   "cell_type": "code",
   "execution_count": 10,
   "metadata": {},
   "outputs": [
    {
     "name": "stdout",
     "output_type": "stream",
     "text": [
      "(Depression)\n"
     ]
    },
    {
     "data": {
      "text/html": [
       "<div>\n",
       "<style scoped>\n",
       "    .dataframe tbody tr th:only-of-type {\n",
       "        vertical-align: middle;\n",
       "    }\n",
       "\n",
       "    .dataframe tbody tr th {\n",
       "        vertical-align: top;\n",
       "    }\n",
       "\n",
       "    .dataframe thead th {\n",
       "        text-align: right;\n",
       "    }\n",
       "</style>\n",
       "<table border=\"1\" class=\"dataframe\">\n",
       "  <thead>\n",
       "    <tr style=\"text-align: right;\">\n",
       "      <th></th>\n",
       "      <th>count</th>\n",
       "      <th>mean</th>\n",
       "      <th>std</th>\n",
       "      <th>min</th>\n",
       "      <th>25%</th>\n",
       "      <th>50%</th>\n",
       "      <th>75%</th>\n",
       "      <th>max</th>\n",
       "    </tr>\n",
       "  </thead>\n",
       "  <tbody>\n",
       "    <tr>\n",
       "      <th>year</th>\n",
       "      <td>16570.0</td>\n",
       "      <td>2017.2</td>\n",
       "      <td>2.2</td>\n",
       "      <td>2014.0</td>\n",
       "      <td>2016.0</td>\n",
       "      <td>2018.0</td>\n",
       "      <td>2020.0</td>\n",
       "      <td>2020.0</td>\n",
       "    </tr>\n",
       "    <tr>\n",
       "      <th>age</th>\n",
       "      <td>16570.0</td>\n",
       "      <td>51.4</td>\n",
       "      <td>16.7</td>\n",
       "      <td>19.0</td>\n",
       "      <td>38.0</td>\n",
       "      <td>52.0</td>\n",
       "      <td>65.0</td>\n",
       "      <td>80.0</td>\n",
       "    </tr>\n",
       "    <tr>\n",
       "      <th>BMI</th>\n",
       "      <td>16570.0</td>\n",
       "      <td>24.0</td>\n",
       "      <td>3.6</td>\n",
       "      <td>14.1</td>\n",
       "      <td>21.5</td>\n",
       "      <td>23.7</td>\n",
       "      <td>26.0</td>\n",
       "      <td>62.6</td>\n",
       "    </tr>\n",
       "  </tbody>\n",
       "</table>\n",
       "</div>"
      ],
      "text/plain": [
       "        count    mean   std     min     25%     50%     75%     max\n",
       "year  16570.0  2017.2   2.2  2014.0  2016.0  2018.0  2020.0  2020.0\n",
       "age   16570.0    51.4  16.7    19.0    38.0    52.0    65.0    80.0\n",
       "BMI   16570.0    24.0   3.6    14.1    21.5    23.7    26.0    62.6"
      ]
     },
     "metadata": {},
     "output_type": "display_data"
    },
    {
     "name": "stdout",
     "output_type": "stream",
     "text": [
      "(MDD)\n"
     ]
    },
    {
     "data": {
      "text/html": [
       "<div>\n",
       "<style scoped>\n",
       "    .dataframe tbody tr th:only-of-type {\n",
       "        vertical-align: middle;\n",
       "    }\n",
       "\n",
       "    .dataframe tbody tr th {\n",
       "        vertical-align: top;\n",
       "    }\n",
       "\n",
       "    .dataframe thead th {\n",
       "        text-align: right;\n",
       "    }\n",
       "</style>\n",
       "<table border=\"1\" class=\"dataframe\">\n",
       "  <thead>\n",
       "    <tr style=\"text-align: right;\">\n",
       "      <th></th>\n",
       "      <th>count</th>\n",
       "      <th>mean</th>\n",
       "      <th>std</th>\n",
       "      <th>min</th>\n",
       "      <th>25%</th>\n",
       "      <th>50%</th>\n",
       "      <th>75%</th>\n",
       "      <th>max</th>\n",
       "    </tr>\n",
       "  </thead>\n",
       "  <tbody>\n",
       "    <tr>\n",
       "      <th>year</th>\n",
       "      <td>3359.0</td>\n",
       "      <td>2017.0</td>\n",
       "      <td>2.2</td>\n",
       "      <td>2014.0</td>\n",
       "      <td>2016.0</td>\n",
       "      <td>2016.0</td>\n",
       "      <td>2018.0</td>\n",
       "      <td>2020.0</td>\n",
       "    </tr>\n",
       "    <tr>\n",
       "      <th>age</th>\n",
       "      <td>3359.0</td>\n",
       "      <td>50.6</td>\n",
       "      <td>17.7</td>\n",
       "      <td>19.0</td>\n",
       "      <td>35.0</td>\n",
       "      <td>51.0</td>\n",
       "      <td>66.0</td>\n",
       "      <td>80.0</td>\n",
       "    </tr>\n",
       "    <tr>\n",
       "      <th>BMI</th>\n",
       "      <td>3359.0</td>\n",
       "      <td>23.9</td>\n",
       "      <td>3.8</td>\n",
       "      <td>14.1</td>\n",
       "      <td>21.3</td>\n",
       "      <td>23.4</td>\n",
       "      <td>26.2</td>\n",
       "      <td>50.9</td>\n",
       "    </tr>\n",
       "  </tbody>\n",
       "</table>\n",
       "</div>"
      ],
      "text/plain": [
       "       count    mean   std     min     25%     50%     75%     max\n",
       "year  3359.0  2017.0   2.2  2014.0  2016.0  2016.0  2018.0  2020.0\n",
       "age   3359.0    50.6  17.7    19.0    35.0    51.0    66.0    80.0\n",
       "BMI   3359.0    23.9   3.8    14.1    21.3    23.4    26.2    50.9"
      ]
     },
     "metadata": {},
     "output_type": "display_data"
    }
   ],
   "source": [
    "# 수치형 변수 기술통계(descriptive statistics)\n",
    "print('(Depression)')\n",
    "display(df_depr.iloc[:,1:].describe(include=['number']).round(1).T)\n",
    "print('(MDD)')\n",
    "display(df_mdd.iloc[:,1:].describe(include=['number']).round(1).T)"
   ]
  },
  {
   "cell_type": "code",
   "execution_count": 11,
   "metadata": {},
   "outputs": [
    {
     "name": "stdout",
     "output_type": "stream",
     "text": [
      "(Depression)\n"
     ]
    },
    {
     "data": {
      "text/html": [
       "<div>\n",
       "<style scoped>\n",
       "    .dataframe tbody tr th:only-of-type {\n",
       "        vertical-align: middle;\n",
       "    }\n",
       "\n",
       "    .dataframe tbody tr th {\n",
       "        vertical-align: top;\n",
       "    }\n",
       "\n",
       "    .dataframe thead th {\n",
       "        text-align: right;\n",
       "    }\n",
       "</style>\n",
       "<table border=\"1\" class=\"dataframe\">\n",
       "  <thead>\n",
       "    <tr style=\"text-align: right;\">\n",
       "      <th></th>\n",
       "      <th>count</th>\n",
       "      <th>unique</th>\n",
       "      <th>top</th>\n",
       "      <th>freq</th>\n",
       "    </tr>\n",
       "  </thead>\n",
       "  <tbody>\n",
       "    <tr>\n",
       "      <th>sex</th>\n",
       "      <td>16570</td>\n",
       "      <td>2</td>\n",
       "      <td>Female</td>\n",
       "      <td>9557</td>\n",
       "    </tr>\n",
       "    <tr>\n",
       "      <th>education</th>\n",
       "      <td>16570</td>\n",
       "      <td>4</td>\n",
       "      <td>대졸 이상</td>\n",
       "      <td>6049</td>\n",
       "    </tr>\n",
       "    <tr>\n",
       "      <th>household</th>\n",
       "      <td>16570</td>\n",
       "      <td>4</td>\n",
       "      <td>2세대</td>\n",
       "      <td>9146</td>\n",
       "    </tr>\n",
       "    <tr>\n",
       "      <th>marital</th>\n",
       "      <td>16570</td>\n",
       "      <td>3</td>\n",
       "      <td>기혼(유배우자)</td>\n",
       "      <td>11644</td>\n",
       "    </tr>\n",
       "    <tr>\n",
       "      <th>economy</th>\n",
       "      <td>16570</td>\n",
       "      <td>2</td>\n",
       "      <td>취업자</td>\n",
       "      <td>9630</td>\n",
       "    </tr>\n",
       "    <tr>\n",
       "      <th>subj_health</th>\n",
       "      <td>16570</td>\n",
       "      <td>5</td>\n",
       "      <td>보통</td>\n",
       "      <td>8591</td>\n",
       "    </tr>\n",
       "    <tr>\n",
       "      <th>limitation</th>\n",
       "      <td>16570</td>\n",
       "      <td>2</td>\n",
       "      <td>No</td>\n",
       "      <td>15328</td>\n",
       "    </tr>\n",
       "    <tr>\n",
       "      <th>modality</th>\n",
       "      <td>16570</td>\n",
       "      <td>2</td>\n",
       "      <td>No</td>\n",
       "      <td>13358</td>\n",
       "    </tr>\n",
       "    <tr>\n",
       "      <th>w_change</th>\n",
       "      <td>16570</td>\n",
       "      <td>2</td>\n",
       "      <td>No</td>\n",
       "      <td>14969</td>\n",
       "    </tr>\n",
       "    <tr>\n",
       "      <th>high_bp</th>\n",
       "      <td>16570</td>\n",
       "      <td>2</td>\n",
       "      <td>No</td>\n",
       "      <td>11312</td>\n",
       "    </tr>\n",
       "    <tr>\n",
       "      <th>diabetes</th>\n",
       "      <td>16570</td>\n",
       "      <td>2</td>\n",
       "      <td>No</td>\n",
       "      <td>14415</td>\n",
       "    </tr>\n",
       "    <tr>\n",
       "      <th>dyslipidemia</th>\n",
       "      <td>16570</td>\n",
       "      <td>2</td>\n",
       "      <td>No</td>\n",
       "      <td>11259</td>\n",
       "    </tr>\n",
       "    <tr>\n",
       "      <th>drk_freq</th>\n",
       "      <td>16570</td>\n",
       "      <td>7</td>\n",
       "      <td>월 2-4회 정도</td>\n",
       "      <td>3633</td>\n",
       "    </tr>\n",
       "    <tr>\n",
       "      <th>drk_amount</th>\n",
       "      <td>16570</td>\n",
       "      <td>6</td>\n",
       "      <td>전혀 안마심</td>\n",
       "      <td>4724</td>\n",
       "    </tr>\n",
       "    <tr>\n",
       "      <th>smoke</th>\n",
       "      <td>16570</td>\n",
       "      <td>2</td>\n",
       "      <td>비흡연/과거흡연</td>\n",
       "      <td>13801</td>\n",
       "    </tr>\n",
       "    <tr>\n",
       "      <th>stress</th>\n",
       "      <td>16570</td>\n",
       "      <td>4</td>\n",
       "      <td>적게 느끼는 편임</td>\n",
       "      <td>9405</td>\n",
       "    </tr>\n",
       "    <tr>\n",
       "      <th>depression</th>\n",
       "      <td>16570</td>\n",
       "      <td>2</td>\n",
       "      <td>No</td>\n",
       "      <td>13211</td>\n",
       "    </tr>\n",
       "  </tbody>\n",
       "</table>\n",
       "</div>"
      ],
      "text/plain": [
       "              count unique        top   freq\n",
       "sex           16570      2     Female   9557\n",
       "education     16570      4      대졸 이상   6049\n",
       "household     16570      4        2세대   9146\n",
       "marital       16570      3   기혼(유배우자)  11644\n",
       "economy       16570      2        취업자   9630\n",
       "subj_health   16570      5         보통   8591\n",
       "limitation    16570      2         No  15328\n",
       "modality      16570      2         No  13358\n",
       "w_change      16570      2         No  14969\n",
       "high_bp       16570      2         No  11312\n",
       "diabetes      16570      2         No  14415\n",
       "dyslipidemia  16570      2         No  11259\n",
       "drk_freq      16570      7  월 2-4회 정도   3633\n",
       "drk_amount    16570      6     전혀 안마심   4724\n",
       "smoke         16570      2   비흡연/과거흡연  13801\n",
       "stress        16570      4  적게 느끼는 편임   9405\n",
       "depression    16570      2         No  13211"
      ]
     },
     "metadata": {},
     "output_type": "display_data"
    },
    {
     "name": "stdout",
     "output_type": "stream",
     "text": [
      "(MDD)\n"
     ]
    },
    {
     "data": {
      "text/html": [
       "<div>\n",
       "<style scoped>\n",
       "    .dataframe tbody tr th:only-of-type {\n",
       "        vertical-align: middle;\n",
       "    }\n",
       "\n",
       "    .dataframe tbody tr th {\n",
       "        vertical-align: top;\n",
       "    }\n",
       "\n",
       "    .dataframe thead th {\n",
       "        text-align: right;\n",
       "    }\n",
       "</style>\n",
       "<table border=\"1\" class=\"dataframe\">\n",
       "  <thead>\n",
       "    <tr style=\"text-align: right;\">\n",
       "      <th></th>\n",
       "      <th>count</th>\n",
       "      <th>unique</th>\n",
       "      <th>top</th>\n",
       "      <th>freq</th>\n",
       "    </tr>\n",
       "  </thead>\n",
       "  <tbody>\n",
       "    <tr>\n",
       "      <th>sex</th>\n",
       "      <td>3359</td>\n",
       "      <td>2</td>\n",
       "      <td>Female</td>\n",
       "      <td>2305</td>\n",
       "    </tr>\n",
       "    <tr>\n",
       "      <th>education</th>\n",
       "      <td>3359</td>\n",
       "      <td>4</td>\n",
       "      <td>고졸</td>\n",
       "      <td>1116</td>\n",
       "    </tr>\n",
       "    <tr>\n",
       "      <th>household</th>\n",
       "      <td>3359</td>\n",
       "      <td>4</td>\n",
       "      <td>2세대</td>\n",
       "      <td>1779</td>\n",
       "    </tr>\n",
       "    <tr>\n",
       "      <th>marital</th>\n",
       "      <td>3359</td>\n",
       "      <td>3</td>\n",
       "      <td>기혼(유배우자)</td>\n",
       "      <td>2017</td>\n",
       "    </tr>\n",
       "    <tr>\n",
       "      <th>economy</th>\n",
       "      <td>3359</td>\n",
       "      <td>2</td>\n",
       "      <td>실업자/비경제활동인구</td>\n",
       "      <td>1725</td>\n",
       "    </tr>\n",
       "    <tr>\n",
       "      <th>subj_health</th>\n",
       "      <td>3359</td>\n",
       "      <td>5</td>\n",
       "      <td>보통</td>\n",
       "      <td>1564</td>\n",
       "    </tr>\n",
       "    <tr>\n",
       "      <th>limitation</th>\n",
       "      <td>3359</td>\n",
       "      <td>2</td>\n",
       "      <td>No</td>\n",
       "      <td>2735</td>\n",
       "    </tr>\n",
       "    <tr>\n",
       "      <th>modality</th>\n",
       "      <td>3359</td>\n",
       "      <td>2</td>\n",
       "      <td>No</td>\n",
       "      <td>2171</td>\n",
       "    </tr>\n",
       "    <tr>\n",
       "      <th>w_change</th>\n",
       "      <td>3359</td>\n",
       "      <td>2</td>\n",
       "      <td>No</td>\n",
       "      <td>2897</td>\n",
       "    </tr>\n",
       "    <tr>\n",
       "      <th>high_bp</th>\n",
       "      <td>3359</td>\n",
       "      <td>2</td>\n",
       "      <td>No</td>\n",
       "      <td>2308</td>\n",
       "    </tr>\n",
       "    <tr>\n",
       "      <th>diabetes</th>\n",
       "      <td>3359</td>\n",
       "      <td>2</td>\n",
       "      <td>No</td>\n",
       "      <td>2864</td>\n",
       "    </tr>\n",
       "    <tr>\n",
       "      <th>dyslipidemia</th>\n",
       "      <td>3359</td>\n",
       "      <td>2</td>\n",
       "      <td>No</td>\n",
       "      <td>2205</td>\n",
       "    </tr>\n",
       "    <tr>\n",
       "      <th>drk_freq</th>\n",
       "      <td>3359</td>\n",
       "      <td>7</td>\n",
       "      <td>월 2-4회 정도</td>\n",
       "      <td>697</td>\n",
       "    </tr>\n",
       "    <tr>\n",
       "      <th>drk_amount</th>\n",
       "      <td>3359</td>\n",
       "      <td>6</td>\n",
       "      <td>전혀 안마심</td>\n",
       "      <td>1045</td>\n",
       "    </tr>\n",
       "    <tr>\n",
       "      <th>smoke</th>\n",
       "      <td>3359</td>\n",
       "      <td>2</td>\n",
       "      <td>비흡연/과거흡연</td>\n",
       "      <td>2709</td>\n",
       "    </tr>\n",
       "    <tr>\n",
       "      <th>stress</th>\n",
       "      <td>3359</td>\n",
       "      <td>4</td>\n",
       "      <td>많이 느끼는 편임</td>\n",
       "      <td>1395</td>\n",
       "    </tr>\n",
       "    <tr>\n",
       "      <th>MDD</th>\n",
       "      <td>3359</td>\n",
       "      <td>2</td>\n",
       "      <td>No</td>\n",
       "      <td>2443</td>\n",
       "    </tr>\n",
       "  </tbody>\n",
       "</table>\n",
       "</div>"
      ],
      "text/plain": [
       "             count unique          top  freq\n",
       "sex           3359      2       Female  2305\n",
       "education     3359      4           고졸  1116\n",
       "household     3359      4          2세대  1779\n",
       "marital       3359      3     기혼(유배우자)  2017\n",
       "economy       3359      2  실업자/비경제활동인구  1725\n",
       "subj_health   3359      5           보통  1564\n",
       "limitation    3359      2           No  2735\n",
       "modality      3359      2           No  2171\n",
       "w_change      3359      2           No  2897\n",
       "high_bp       3359      2           No  2308\n",
       "diabetes      3359      2           No  2864\n",
       "dyslipidemia  3359      2           No  2205\n",
       "drk_freq      3359      7    월 2-4회 정도   697\n",
       "drk_amount    3359      6       전혀 안마심  1045\n",
       "smoke         3359      2     비흡연/과거흡연  2709\n",
       "stress        3359      4    많이 느끼는 편임  1395\n",
       "MDD           3359      2           No  2443"
      ]
     },
     "metadata": {},
     "output_type": "display_data"
    }
   ],
   "source": [
    "# 범주형 변수 기술통계(descriptive statistics)\n",
    "print('(Depression)')\n",
    "display(df_depr.iloc[:,1:].describe(include=['object']).T)\n",
    "print('(MDD)')\n",
    "display(df_mdd.iloc[:,1:].describe(include=['object']).T)"
   ]
  },
  {
   "attachments": {},
   "cell_type": "markdown",
   "metadata": {},
   "source": [
    "- 독립변수 및 종속변수"
   ]
  },
  {
   "cell_type": "code",
   "execution_count": 12,
   "metadata": {},
   "outputs": [
    {
     "name": "stdout",
     "output_type": "stream",
     "text": [
      "독립변수(Independent Variable)\n",
      "\t수치형 변수(Numerical Data) : 총 2 개\n",
      "\t범주형 변수(Categorical Data) : 총 16 개\n",
      "종속변수(Dependent Variable)\n",
      "\tDepression(정상vs우울증) : 'depression'\n",
      "\tMDD(경도우울vs주요우울) : 'MDD'\n"
     ]
    }
   ],
   "source": [
    "num_cols = list(df_depr.iloc[:,1:].describe(include=['number']).columns[1:])\n",
    "cat_cols = list(df_depr.iloc[:,1:].describe(include=['object']).columns[:-1])\n",
    "print(\"독립변수(Independent Variable)\")\n",
    "print(f\"\\t수치형 변수(Numerical Data) : 총 {len(num_cols)} 개\")\n",
    "print(f\"\\t범주형 변수(Categorical Data) : 총 {len(cat_cols)} 개\")\n",
    "print(\"종속변수(Dependent Variable)\")\n",
    "print(f\"\\tDepression(정상vs우울증) : '{df_depr.columns[-1]}'\")\n",
    "print(f\"\\tMDD(경도우울vs주요우울) : '{df_mdd.columns[-1]}'\")"
   ]
  },
  {
   "attachments": {},
   "cell_type": "markdown",
   "metadata": {},
   "source": [
    "##### 💡 데이터 확인 결과 요약\n",
    "- Data Shape(데이터 형태)\n",
    "  <br><br>\n",
    "  - Depression(정상vs우울증) : (16570, 21)\n",
    "  - MDD(경도우울vs주요우울) : (3359, 21)\n",
    "<br><br>\n",
    "- 결측값 및 중복값\n",
    "  <br><br>\n",
    "  - 공통적으로 전처리를 거친 데이터들이기 때문에 결측데이터 및 중복데이터는 없음.\n",
    "<br><br>\n",
    "- 변수 분류(전체)\n",
    "  <br><br>\n",
    "  - 식별코드인 id를 제외하고 수치형 및 범주형 데이터 갯수는 다음과 같음.\n",
    "  <br><br>\n",
    "  - 수치형 변수(Numerical Data) : 총 3개 ['year', 'age', 'BMI']\n",
    "  - 범주형 변수(Categorical Data) : 총 17개\n",
    "<br><br>\n",
    "- 변수 분류(독립변수 및 종속변수)\n",
    "  <br><br>\n",
    "  - column 중 'year' 변수는 EDA 및 대시보드에서만 활용하고, 모델링에서는 활용하지 않을 예정이기 때문에 독립변수 및 종속변수는 다음과 같음.\n",
    "  <br><br>\n",
    "  - 독립변수(Independent Variable)\n",
    "    - 수치형 변수(Numerical Data) : 총 2개 ['age', 'BMI']\n",
    "    - 범주형 변수(Categorical Data) : 총 16개 ['sex', $\\cdots$ , 'stress']\n",
    "  - 종속변수(Dependent Variable)\n",
    "    - Depression(정상vs우울증) : 'depression'\n",
    "    - MDD(경도우울vs주요우울) : 'MDD'"
   ]
  },
  {
   "attachments": {},
   "cell_type": "markdown",
   "metadata": {},
   "source": [
    "### 🎯 종속변수(Targets) 분포(Distribution)"
   ]
  },
  {
   "attachments": {},
   "cell_type": "markdown",
   "metadata": {},
   "source": [
    "- Depression(정상vs우울증)"
   ]
  },
  {
   "cell_type": "code",
   "execution_count": 33,
   "metadata": {},
   "outputs": [
    {
     "data": {
      "text/html": [
       "<div>\n",
       "<style scoped>\n",
       "    .dataframe tbody tr th:only-of-type {\n",
       "        vertical-align: middle;\n",
       "    }\n",
       "\n",
       "    .dataframe tbody tr th {\n",
       "        vertical-align: top;\n",
       "    }\n",
       "\n",
       "    .dataframe thead th {\n",
       "        text-align: right;\n",
       "    }\n",
       "</style>\n",
       "<table border=\"1\" class=\"dataframe\">\n",
       "  <thead>\n",
       "    <tr style=\"text-align: right;\">\n",
       "      <th></th>\n",
       "      <th>depression</th>\n",
       "      <th>id</th>\n",
       "    </tr>\n",
       "  </thead>\n",
       "  <tbody>\n",
       "    <tr>\n",
       "      <th>0</th>\n",
       "      <td>No</td>\n",
       "      <td>13211</td>\n",
       "    </tr>\n",
       "    <tr>\n",
       "      <th>1</th>\n",
       "      <td>Yes</td>\n",
       "      <td>3359</td>\n",
       "    </tr>\n",
       "  </tbody>\n",
       "</table>\n",
       "</div>"
      ],
      "text/plain": [
       "  depression     id\n",
       "0         No  13211\n",
       "1        Yes   3359"
      ]
     },
     "metadata": {},
     "output_type": "display_data"
    },
    {
     "data": {
      "text/html": [
       "<div>\n",
       "<style scoped>\n",
       "    .dataframe tbody tr th:only-of-type {\n",
       "        vertical-align: middle;\n",
       "    }\n",
       "\n",
       "    .dataframe tbody tr th {\n",
       "        vertical-align: top;\n",
       "    }\n",
       "\n",
       "    .dataframe thead th {\n",
       "        text-align: right;\n",
       "    }\n",
       "</style>\n",
       "<table border=\"1\" class=\"dataframe\">\n",
       "  <thead>\n",
       "    <tr style=\"text-align: right;\">\n",
       "      <th></th>\n",
       "      <th>depression</th>\n",
       "      <th>id</th>\n",
       "    </tr>\n",
       "  </thead>\n",
       "  <tbody>\n",
       "    <tr>\n",
       "      <th>0</th>\n",
       "      <td>Normal (정상)</td>\n",
       "      <td>13211</td>\n",
       "    </tr>\n",
       "    <tr>\n",
       "      <th>1</th>\n",
       "      <td>Depression (우울증)</td>\n",
       "      <td>3359</td>\n",
       "    </tr>\n",
       "  </tbody>\n",
       "</table>\n",
       "</div>"
      ],
      "text/plain": [
       "         depression     id\n",
       "0       Normal (정상)  13211\n",
       "1  Depression (우울증)   3359"
      ]
     },
     "metadata": {},
     "output_type": "display_data"
    }
   ],
   "source": [
    "# Group By Target counts\n",
    "group_depr = df_depr.groupby(['depression'], as_index=False)['id'].count()\n",
    "display(group_depr)\n",
    "# 변수 값 수정\n",
    "count_depr = group_depr.replace({'No': 'Normal (정상)', 'Yes': 'Depression (우울증)'})\n",
    "display(count_depr)"
   ]
  },
  {
   "cell_type": "code",
   "execution_count": 121,
   "metadata": {},
   "outputs": [
    {
     "data": {
      "application/vnd.plotly.v1+json": {
       "config": {
        "plotlyServerURL": "https://plot.ly"
       },
       "data": [
        {
         "marker": {
          "color": [
           "pink",
           "purple"
          ]
         },
         "showlegend": false,
         "texttemplate": "%{y:,}",
         "type": "bar",
         "x": [
          "Normal (정상)",
          "Depression (우울증)"
         ],
         "xaxis": "x",
         "y": [
          13211,
          3359
         ],
         "yaxis": "y"
        },
        {
         "domain": {
          "x": [
           0.55,
           1
          ],
          "y": [
           0,
           1
          ]
         },
         "hole": 0.3,
         "hoverinfo": "label+value+percent",
         "labels": [
          "Normal (정상)",
          "Depression (우울증)"
         ],
         "marker": {
          "colors": [
           "pink",
           "purple"
          ]
         },
         "rotation": -180,
         "showlegend": true,
         "textinfo": "value+percent",
         "type": "pie",
         "values": [
          13211,
          3359
         ]
        }
       ],
       "layout": {
        "annotations": [
         {
          "font": {
           "size": 16
          },
          "showarrow": false,
          "text": "Bar_plot",
          "x": 0.225,
          "xanchor": "center",
          "xref": "paper",
          "y": 1,
          "yanchor": "bottom",
          "yref": "paper"
         },
         {
          "font": {
           "size": 16
          },
          "showarrow": false,
          "text": "Pie_plot",
          "x": 0.775,
          "xanchor": "center",
          "xref": "paper",
          "y": 1,
          "yanchor": "bottom",
          "yref": "paper"
         }
        ],
        "legend": {
         "x": 0.75,
         "xanchor": "center",
         "y": -0.25,
         "yanchor": "bottom"
        },
        "template": {
         "data": {
          "bar": [
           {
            "error_x": {
             "color": "#2a3f5f"
            },
            "error_y": {
             "color": "#2a3f5f"
            },
            "marker": {
             "line": {
              "color": "#E5ECF6",
              "width": 0.5
             },
             "pattern": {
              "fillmode": "overlay",
              "size": 10,
              "solidity": 0.2
             }
            },
            "type": "bar"
           }
          ],
          "barpolar": [
           {
            "marker": {
             "line": {
              "color": "#E5ECF6",
              "width": 0.5
             },
             "pattern": {
              "fillmode": "overlay",
              "size": 10,
              "solidity": 0.2
             }
            },
            "type": "barpolar"
           }
          ],
          "carpet": [
           {
            "aaxis": {
             "endlinecolor": "#2a3f5f",
             "gridcolor": "white",
             "linecolor": "white",
             "minorgridcolor": "white",
             "startlinecolor": "#2a3f5f"
            },
            "baxis": {
             "endlinecolor": "#2a3f5f",
             "gridcolor": "white",
             "linecolor": "white",
             "minorgridcolor": "white",
             "startlinecolor": "#2a3f5f"
            },
            "type": "carpet"
           }
          ],
          "choropleth": [
           {
            "colorbar": {
             "outlinewidth": 0,
             "ticks": ""
            },
            "type": "choropleth"
           }
          ],
          "contour": [
           {
            "colorbar": {
             "outlinewidth": 0,
             "ticks": ""
            },
            "colorscale": [
             [
              0,
              "#0d0887"
             ],
             [
              0.1111111111111111,
              "#46039f"
             ],
             [
              0.2222222222222222,
              "#7201a8"
             ],
             [
              0.3333333333333333,
              "#9c179e"
             ],
             [
              0.4444444444444444,
              "#bd3786"
             ],
             [
              0.5555555555555556,
              "#d8576b"
             ],
             [
              0.6666666666666666,
              "#ed7953"
             ],
             [
              0.7777777777777778,
              "#fb9f3a"
             ],
             [
              0.8888888888888888,
              "#fdca26"
             ],
             [
              1,
              "#f0f921"
             ]
            ],
            "type": "contour"
           }
          ],
          "contourcarpet": [
           {
            "colorbar": {
             "outlinewidth": 0,
             "ticks": ""
            },
            "type": "contourcarpet"
           }
          ],
          "heatmap": [
           {
            "colorbar": {
             "outlinewidth": 0,
             "ticks": ""
            },
            "colorscale": [
             [
              0,
              "#0d0887"
             ],
             [
              0.1111111111111111,
              "#46039f"
             ],
             [
              0.2222222222222222,
              "#7201a8"
             ],
             [
              0.3333333333333333,
              "#9c179e"
             ],
             [
              0.4444444444444444,
              "#bd3786"
             ],
             [
              0.5555555555555556,
              "#d8576b"
             ],
             [
              0.6666666666666666,
              "#ed7953"
             ],
             [
              0.7777777777777778,
              "#fb9f3a"
             ],
             [
              0.8888888888888888,
              "#fdca26"
             ],
             [
              1,
              "#f0f921"
             ]
            ],
            "type": "heatmap"
           }
          ],
          "heatmapgl": [
           {
            "colorbar": {
             "outlinewidth": 0,
             "ticks": ""
            },
            "colorscale": [
             [
              0,
              "#0d0887"
             ],
             [
              0.1111111111111111,
              "#46039f"
             ],
             [
              0.2222222222222222,
              "#7201a8"
             ],
             [
              0.3333333333333333,
              "#9c179e"
             ],
             [
              0.4444444444444444,
              "#bd3786"
             ],
             [
              0.5555555555555556,
              "#d8576b"
             ],
             [
              0.6666666666666666,
              "#ed7953"
             ],
             [
              0.7777777777777778,
              "#fb9f3a"
             ],
             [
              0.8888888888888888,
              "#fdca26"
             ],
             [
              1,
              "#f0f921"
             ]
            ],
            "type": "heatmapgl"
           }
          ],
          "histogram": [
           {
            "marker": {
             "pattern": {
              "fillmode": "overlay",
              "size": 10,
              "solidity": 0.2
             }
            },
            "type": "histogram"
           }
          ],
          "histogram2d": [
           {
            "colorbar": {
             "outlinewidth": 0,
             "ticks": ""
            },
            "colorscale": [
             [
              0,
              "#0d0887"
             ],
             [
              0.1111111111111111,
              "#46039f"
             ],
             [
              0.2222222222222222,
              "#7201a8"
             ],
             [
              0.3333333333333333,
              "#9c179e"
             ],
             [
              0.4444444444444444,
              "#bd3786"
             ],
             [
              0.5555555555555556,
              "#d8576b"
             ],
             [
              0.6666666666666666,
              "#ed7953"
             ],
             [
              0.7777777777777778,
              "#fb9f3a"
             ],
             [
              0.8888888888888888,
              "#fdca26"
             ],
             [
              1,
              "#f0f921"
             ]
            ],
            "type": "histogram2d"
           }
          ],
          "histogram2dcontour": [
           {
            "colorbar": {
             "outlinewidth": 0,
             "ticks": ""
            },
            "colorscale": [
             [
              0,
              "#0d0887"
             ],
             [
              0.1111111111111111,
              "#46039f"
             ],
             [
              0.2222222222222222,
              "#7201a8"
             ],
             [
              0.3333333333333333,
              "#9c179e"
             ],
             [
              0.4444444444444444,
              "#bd3786"
             ],
             [
              0.5555555555555556,
              "#d8576b"
             ],
             [
              0.6666666666666666,
              "#ed7953"
             ],
             [
              0.7777777777777778,
              "#fb9f3a"
             ],
             [
              0.8888888888888888,
              "#fdca26"
             ],
             [
              1,
              "#f0f921"
             ]
            ],
            "type": "histogram2dcontour"
           }
          ],
          "mesh3d": [
           {
            "colorbar": {
             "outlinewidth": 0,
             "ticks": ""
            },
            "type": "mesh3d"
           }
          ],
          "parcoords": [
           {
            "line": {
             "colorbar": {
              "outlinewidth": 0,
              "ticks": ""
             }
            },
            "type": "parcoords"
           }
          ],
          "pie": [
           {
            "automargin": true,
            "type": "pie"
           }
          ],
          "scatter": [
           {
            "fillpattern": {
             "fillmode": "overlay",
             "size": 10,
             "solidity": 0.2
            },
            "type": "scatter"
           }
          ],
          "scatter3d": [
           {
            "line": {
             "colorbar": {
              "outlinewidth": 0,
              "ticks": ""
             }
            },
            "marker": {
             "colorbar": {
              "outlinewidth": 0,
              "ticks": ""
             }
            },
            "type": "scatter3d"
           }
          ],
          "scattercarpet": [
           {
            "marker": {
             "colorbar": {
              "outlinewidth": 0,
              "ticks": ""
             }
            },
            "type": "scattercarpet"
           }
          ],
          "scattergeo": [
           {
            "marker": {
             "colorbar": {
              "outlinewidth": 0,
              "ticks": ""
             }
            },
            "type": "scattergeo"
           }
          ],
          "scattergl": [
           {
            "marker": {
             "colorbar": {
              "outlinewidth": 0,
              "ticks": ""
             }
            },
            "type": "scattergl"
           }
          ],
          "scattermapbox": [
           {
            "marker": {
             "colorbar": {
              "outlinewidth": 0,
              "ticks": ""
             }
            },
            "type": "scattermapbox"
           }
          ],
          "scatterpolar": [
           {
            "marker": {
             "colorbar": {
              "outlinewidth": 0,
              "ticks": ""
             }
            },
            "type": "scatterpolar"
           }
          ],
          "scatterpolargl": [
           {
            "marker": {
             "colorbar": {
              "outlinewidth": 0,
              "ticks": ""
             }
            },
            "type": "scatterpolargl"
           }
          ],
          "scatterternary": [
           {
            "marker": {
             "colorbar": {
              "outlinewidth": 0,
              "ticks": ""
             }
            },
            "type": "scatterternary"
           }
          ],
          "surface": [
           {
            "colorbar": {
             "outlinewidth": 0,
             "ticks": ""
            },
            "colorscale": [
             [
              0,
              "#0d0887"
             ],
             [
              0.1111111111111111,
              "#46039f"
             ],
             [
              0.2222222222222222,
              "#7201a8"
             ],
             [
              0.3333333333333333,
              "#9c179e"
             ],
             [
              0.4444444444444444,
              "#bd3786"
             ],
             [
              0.5555555555555556,
              "#d8576b"
             ],
             [
              0.6666666666666666,
              "#ed7953"
             ],
             [
              0.7777777777777778,
              "#fb9f3a"
             ],
             [
              0.8888888888888888,
              "#fdca26"
             ],
             [
              1,
              "#f0f921"
             ]
            ],
            "type": "surface"
           }
          ],
          "table": [
           {
            "cells": {
             "fill": {
              "color": "#EBF0F8"
             },
             "line": {
              "color": "white"
             }
            },
            "header": {
             "fill": {
              "color": "#C8D4E3"
             },
             "line": {
              "color": "white"
             }
            },
            "type": "table"
           }
          ]
         },
         "layout": {
          "annotationdefaults": {
           "arrowcolor": "#2a3f5f",
           "arrowhead": 0,
           "arrowwidth": 1
          },
          "autotypenumbers": "strict",
          "coloraxis": {
           "colorbar": {
            "outlinewidth": 0,
            "ticks": ""
           }
          },
          "colorscale": {
           "diverging": [
            [
             0,
             "#8e0152"
            ],
            [
             0.1,
             "#c51b7d"
            ],
            [
             0.2,
             "#de77ae"
            ],
            [
             0.3,
             "#f1b6da"
            ],
            [
             0.4,
             "#fde0ef"
            ],
            [
             0.5,
             "#f7f7f7"
            ],
            [
             0.6,
             "#e6f5d0"
            ],
            [
             0.7,
             "#b8e186"
            ],
            [
             0.8,
             "#7fbc41"
            ],
            [
             0.9,
             "#4d9221"
            ],
            [
             1,
             "#276419"
            ]
           ],
           "sequential": [
            [
             0,
             "#0d0887"
            ],
            [
             0.1111111111111111,
             "#46039f"
            ],
            [
             0.2222222222222222,
             "#7201a8"
            ],
            [
             0.3333333333333333,
             "#9c179e"
            ],
            [
             0.4444444444444444,
             "#bd3786"
            ],
            [
             0.5555555555555556,
             "#d8576b"
            ],
            [
             0.6666666666666666,
             "#ed7953"
            ],
            [
             0.7777777777777778,
             "#fb9f3a"
            ],
            [
             0.8888888888888888,
             "#fdca26"
            ],
            [
             1,
             "#f0f921"
            ]
           ],
           "sequentialminus": [
            [
             0,
             "#0d0887"
            ],
            [
             0.1111111111111111,
             "#46039f"
            ],
            [
             0.2222222222222222,
             "#7201a8"
            ],
            [
             0.3333333333333333,
             "#9c179e"
            ],
            [
             0.4444444444444444,
             "#bd3786"
            ],
            [
             0.5555555555555556,
             "#d8576b"
            ],
            [
             0.6666666666666666,
             "#ed7953"
            ],
            [
             0.7777777777777778,
             "#fb9f3a"
            ],
            [
             0.8888888888888888,
             "#fdca26"
            ],
            [
             1,
             "#f0f921"
            ]
           ]
          },
          "colorway": [
           "#636efa",
           "#EF553B",
           "#00cc96",
           "#ab63fa",
           "#FFA15A",
           "#19d3f3",
           "#FF6692",
           "#B6E880",
           "#FF97FF",
           "#FECB52"
          ],
          "font": {
           "color": "#2a3f5f"
          },
          "geo": {
           "bgcolor": "white",
           "lakecolor": "white",
           "landcolor": "#E5ECF6",
           "showlakes": true,
           "showland": true,
           "subunitcolor": "white"
          },
          "hoverlabel": {
           "align": "left"
          },
          "hovermode": "closest",
          "mapbox": {
           "style": "light"
          },
          "paper_bgcolor": "white",
          "plot_bgcolor": "#E5ECF6",
          "polar": {
           "angularaxis": {
            "gridcolor": "white",
            "linecolor": "white",
            "ticks": ""
           },
           "bgcolor": "#E5ECF6",
           "radialaxis": {
            "gridcolor": "white",
            "linecolor": "white",
            "ticks": ""
           }
          },
          "scene": {
           "xaxis": {
            "backgroundcolor": "#E5ECF6",
            "gridcolor": "white",
            "gridwidth": 2,
            "linecolor": "white",
            "showbackground": true,
            "ticks": "",
            "zerolinecolor": "white"
           },
           "yaxis": {
            "backgroundcolor": "#E5ECF6",
            "gridcolor": "white",
            "gridwidth": 2,
            "linecolor": "white",
            "showbackground": true,
            "ticks": "",
            "zerolinecolor": "white"
           },
           "zaxis": {
            "backgroundcolor": "#E5ECF6",
            "gridcolor": "white",
            "gridwidth": 2,
            "linecolor": "white",
            "showbackground": true,
            "ticks": "",
            "zerolinecolor": "white"
           }
          },
          "shapedefaults": {
           "line": {
            "color": "#2a3f5f"
           }
          },
          "ternary": {
           "aaxis": {
            "gridcolor": "white",
            "linecolor": "white",
            "ticks": ""
           },
           "baxis": {
            "gridcolor": "white",
            "linecolor": "white",
            "ticks": ""
           },
           "bgcolor": "#E5ECF6",
           "caxis": {
            "gridcolor": "white",
            "linecolor": "white",
            "ticks": ""
           }
          },
          "title": {
           "x": 0.05
          },
          "xaxis": {
           "automargin": true,
           "gridcolor": "white",
           "linecolor": "white",
           "ticks": "",
           "title": {
            "standoff": 15
           },
           "zerolinecolor": "white",
           "zerolinewidth": 2
          },
          "yaxis": {
           "automargin": true,
           "gridcolor": "white",
           "linecolor": "white",
           "ticks": "",
           "title": {
            "standoff": 15
           },
           "zerolinecolor": "white",
           "zerolinewidth": 2
          }
         }
        },
        "title": {
         "text": "Counts of \"Depression\""
        },
        "xaxis": {
         "anchor": "y",
         "domain": [
          0,
          0.45
         ]
        },
        "yaxis": {
         "anchor": "x",
         "domain": [
          0,
          1
         ],
         "tickformat": ","
        }
       }
      },
      "image/png": "[encoded data removed]"
     },
     "metadata": {},
     "output_type": "display_data"
    }
   ],
   "source": [
    "plot_depr = plsp(rows=1, cols=2,\n",
    "                 subplot_titles=('Bar_plot','Pie_plot'),\n",
    "                 specs=[[{'type':'xy'}, {'type':'domain'}]])\n",
    "plot_depr.add_trace(\n",
    "    go.Bar(x=count_depr.depression,\n",
    "           y=count_depr.id,\n",
    "           marker_color=['pink', 'purple'],\n",
    "           texttemplate=\"%{y:,}\",\n",
    "           showlegend=False\n",
    "           ),\n",
    "    row=1, col=1\n",
    ")\n",
    "plot_depr.add_trace(\n",
    "    go.Pie(values=count_depr.id,\n",
    "           labels=count_depr.depression,\n",
    "           hole=0.3,\n",
    "           showlegend=True,\n",
    "           marker_colors=['pink', 'purple'],\n",
    "           hoverinfo=\"label+value+percent\",\n",
    "           textinfo='value+percent',\n",
    "           rotation=180\n",
    "           ),\n",
    "    row=1, col=2\n",
    ")\n",
    "plot_depr.update_layout(title_text='Counts of \"Depression\"',\n",
    "                        legend=dict(yanchor='bottom',\n",
    "                                    y=-0.25,\n",
    "                                    xanchor='center',\n",
    "                                    x=0.75))\n",
    "plot_depr.update_yaxes(tickformat=',')\n",
    "plot_depr.show()"
   ]
  },
  {
   "cell_type": "code",
   "execution_count": null,
   "metadata": {},
   "outputs": [],
   "source": []
  }
 ],
 "metadata": {
  "kernelspec": {
   "display_name": "Kr-deep-ml",
   "language": "python",
   "name": "python3"
  },
  "language_info": {
   "codemirror_mode": {
    "name": "ipython",
    "version": 3
   },
   "file_extension": ".py",
   "mimetype": "text/x-python",
   "name": "python",
   "nbconvert_exporter": "python",
   "pygments_lexer": "ipython3",
   "version": "3.8.16"
  },
  "orig_nbformat": 4,
  "vscode": {
   "interpreter": {
    "hash": "c76392c475892b045c58a048aaac6e49d6e7cc4168edf1cdbe1dafc077c6475a"
   }
  }
 },
 "nbformat": 4,
 "nbformat_minor": 2
}
